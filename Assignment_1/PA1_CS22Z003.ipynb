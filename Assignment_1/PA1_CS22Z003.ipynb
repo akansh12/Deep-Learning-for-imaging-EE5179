{
  "nbformat": 4,
  "nbformat_minor": 0,
  "metadata": {
    "colab": {
      "name": " PA1 CS22Z003.ipynb",
      "provenance": [],
      "collapsed_sections": [],
      "authorship_tag": "ABX9TyOn/hnbJjQlkfw/Th+kPy2E",
      "include_colab_link": true
    },
    "kernelspec": {
      "name": "python3",
      "display_name": "Python 3"
    },
    "language_info": {
      "name": "python"
    }
  },
  "cells": [
    {
      "cell_type": "markdown",
      "metadata": {
        "id": "view-in-github",
        "colab_type": "text"
      },
      "source": [
        "<a href=\"https://colab.research.google.com/github/akansh12/Deep-Learning-for-imaging-EE5179/blob/main/Assignment_1/PA1_CS22Z003.ipynb\" target=\"_parent\"><img src=\"https://colab.research.google.com/assets/colab-badge.svg\" alt=\"Open In Colab\"/></a>"
      ]
    },
    {
      "cell_type": "markdown",
      "source": [
        "# MNIST Classification using MLP\n"
      ],
      "metadata": {
        "id": "q-Acap1SgWyb"
      }
    },
    {
      "cell_type": "markdown",
      "source": [
        "By \n",
        "- Akansh Maurya (CS22Z003)"
      ],
      "metadata": {
        "id": "2RgCHb3Ui82c"
      }
    },
    {
      "cell_type": "markdown",
      "source": [
        "Tasks to to:\n",
        "- Baseline: IP-h(500)-h(250)-h(100)-OP\n",
        "- Activation functions for hidden layers: Sigmoid and for the Output layer it is softmax\n",
        "- Gradient-Descent\n",
        "- lr = 0.01, batch size = 64, epoch = 15\n",
        "-  Extra marks for experimentations\n",
        "- Glorot Initialization\n",
        "- Plot the loss for 200 iterations\n",
        "- Confustion matrix and classification report\n",
        "1.1\n",
        "- Use Tanh and RELU\n",
        "\n",
        "Task 2:\n",
        "- Use pytorch for the same\n",
        "- Add L2 Regularization to it."
      ],
      "metadata": {
        "id": "bi2x5f2qgSUu"
      }
    },
    {
      "cell_type": "markdown",
      "source": [
        "###Imports"
      ],
      "metadata": {
        "id": "rSZ1i9nPjYDj"
      }
    },
    {
      "cell_type": "code",
      "source": [
        "import tensorflow as tf\n",
        "import torch\n",
        "import keras\n",
        "import torchvision\n",
        "import numpy as np\n",
        "from  matplotlib import pyplot as plt\n",
        "from PIL import Image\n",
        "from sklearn.model_selection import train_test_split\n",
        "from tqdm.auto import tqdm"
      ],
      "metadata": {
        "id": "CNpq2VWIjdBS"
      },
      "execution_count": 1,
      "outputs": []
    },
    {
      "cell_type": "markdown",
      "source": [
        "Downloading the Dataset"
      ],
      "metadata": {
        "id": "MtymctNZjUlb"
      }
    },
    {
      "cell_type": "code",
      "source": [
        "# source: https://keras.io/api/datasets/mnist/\n",
        "tf.keras.datasets.mnist.load_data(path=\"mnist.npz\")\n",
        "(x_train, y_train), (x_test, y_test) = keras.datasets.mnist.load_data()\n",
        "print(x_train.shape)\n",
        "print(y_train.shape)\n",
        "print(x_test.shape)\n",
        "print(y_test.shape)"
      ],
      "metadata": {
        "colab": {
          "base_uri": "https://localhost:8080/"
        },
        "id": "tuSuNiYjgTBx",
        "outputId": "76252a2c-e02e-4f68-94f4-7e67679ea5a1"
      },
      "execution_count": 2,
      "outputs": [
        {
          "output_type": "stream",
          "name": "stdout",
          "text": [
            "Downloading data from https://storage.googleapis.com/tensorflow/tf-keras-datasets/mnist.npz\n",
            "11493376/11490434 [==============================] - 0s 0us/step\n",
            "11501568/11490434 [==============================] - 0s 0us/step\n",
            "(60000, 28, 28)\n",
            "(60000,)\n",
            "(10000, 28, 28)\n",
            "(10000,)\n"
          ]
        }
      ]
    },
    {
      "cell_type": "markdown",
      "source": [
        "### Reshaping the dataset"
      ],
      "metadata": {
        "id": "ekNbyGONng-W"
      }
    },
    {
      "cell_type": "code",
      "source": [
        "x_train = np.array(x_train.reshape(x_train.shape[0], 784)).T\n",
        "x_test = np.array(x_test.reshape(x_test.shape[0], 784)).T\n",
        "x_train = (x_train/255.0).astype(np.float32)\n",
        "x_test = (x_test/255.0).astype(np.float32)"
      ],
      "metadata": {
        "id": "Z1Rh7u8GnRBG"
      },
      "execution_count": 3,
      "outputs": []
    },
    {
      "cell_type": "code",
      "source": [
        "print(\"Train Dataset Shape: \", x_train.shape)\n",
        "print(\"Train Target Vector Shape: \", y_train.shape) \n",
        "print(\"Test Dataset Shape:\", x_test.shape)\n",
        "print(\"Test Target Vector Shape\", y_test.shape)"
      ],
      "metadata": {
        "colab": {
          "base_uri": "https://localhost:8080/"
        },
        "id": "Igf2TjDSkyP6",
        "outputId": "e864943b-760c-4d94-f9c1-f8d20731f655"
      },
      "execution_count": 4,
      "outputs": [
        {
          "output_type": "stream",
          "name": "stdout",
          "text": [
            "Train Dataset Shape:  (784, 60000)\n",
            "Train Target Vector Shape:  (60000,)\n",
            "Test Dataset Shape: (784, 10000)\n",
            "Test Target Vector Shape (10000,)\n"
          ]
        }
      ]
    },
    {
      "cell_type": "code",
      "source": [
        "plt.figure()\n",
        "plt.imshow(x_train[:,48].reshape(28,28))\n",
        "print(y_train[48])\n",
        "plt.figure()\n",
        "plt.imshow(x_test[:,75].reshape(28,28))\n",
        "print(y_test[75])"
      ],
      "metadata": {
        "colab": {
          "base_uri": "https://localhost:8080/",
          "height": 548
        },
        "id": "g4GmV_evncOl",
        "outputId": "086b6abd-f6ce-4d6b-fc0f-80ea901a92f0"
      },
      "execution_count": 6,
      "outputs": [
        {
          "output_type": "stream",
          "name": "stdout",
          "text": [
            "9\n",
            "7\n"
          ]
        },
        {
          "output_type": "display_data",
          "data": {
            "text/plain": [
              "<Figure size 432x288 with 1 Axes>"
            ],
            "image/png": "[encoded data removed]"
          },
          "metadata": {
            "needs_background": "light"
          }
        },
        {
          "output_type": "display_data",
          "data": {
            "text/plain": [
              "<Figure size 432x288 with 1 Axes>"
            ],
            "image/png": "[encoded data removed]"
          },
          "metadata": {
            "needs_background": "light"
          }
        }
      ]
    },
    {
      "cell_type": "code",
      "source": [
        ""
      ],
      "metadata": {
        "id": "mN7IXDwclnrq"
      },
      "execution_count": 12,
      "outputs": []
    },
    {
      "cell_type": "code",
      "source": [
        ""
      ],
      "metadata": {
        "id": "IgD3VclPlnuD"
      },
      "execution_count": null,
      "outputs": []
    },
    {
      "cell_type": "code",
      "source": [
        ""
      ],
      "metadata": {
        "id": "H1L3iDc2lnwi"
      },
      "execution_count": null,
      "outputs": []
    },
    {
      "cell_type": "code",
      "source": [
        ""
      ],
      "metadata": {
        "id": "mjychvIElny6"
      },
      "execution_count": null,
      "outputs": []
    },
    {
      "cell_type": "code",
      "source": [
        ""
      ],
      "metadata": {
        "id": "UK_pmN-Vln1t"
      },
      "execution_count": null,
      "outputs": []
    },
    {
      "cell_type": "code",
      "source": [
        "class MLP():\n",
        "  def __init__(self, epochs, num_input_nodes, hidden_layers, num_output_nodes, lr, optimizer, batch_size, activation_function = 'sigmoid', loss_type = 'cross_entropy', w_initial = 'glorot'):\n",
        "    self.epochs = epochs\n",
        "    self.lr = lr \n",
        "    self.optimizer = optimizer\n",
        "    self.optimizer.lr = self.lr      \n",
        "    self.batch_size = batch_size\n",
        "    self.num_input_nodes = num_input_nodes\n",
        "    self.hidden_layers = hidden_layers\n",
        "    self.num_output_nodes = num_output_nodes\n",
        "    self.loss_type = loss_type\n",
        "    #Activation function\n",
        "    self.activation_function = self.activation(activation_function)\n",
        "    #parameter initialization\n",
        "    self.params = self.initialization(weight_initialisation = w_initial)\n",
        "\n",
        "  def activation(self, activation_function):\n",
        "\n",
        "    if activation_function == 'sigmoid':\n",
        "      return self.sigmoid\n",
        "    if activation_function == 'tanh':\n",
        "      return self.tanh\n",
        "    if activation_function == 'ReLU':\n",
        "      return self.relu\n",
        "\n",
        "  def sigmoid(self,x, derivative = False):\n",
        "    if derivative:\n",
        "      return self.sigmoid(x)*(1-self.sigmoid(x))\n",
        "    else:\n",
        "      return 1/(1 + np.exp(-x))\n",
        "\n",
        "  def tanh(self, x, derivative = False):\n",
        "    if derivative:\n",
        "      return 1 - self.tanh(x)**2\n",
        "    return (np.exp(x)-np.exp(-x))/(np.exp(x)+np.exp(-x))\n",
        "\n",
        "  def relu(self, x, derivative = False):\n",
        "    if derivative:\n",
        "      return (x>0)*1 \n",
        "    return x*(x>0)\n",
        "\n",
        "\n",
        "  def one_hot(self,y):\n",
        "    v = np.zeros((self.num_output_nodes, len(y)))\n",
        "    for i,j in enumerate(y):\n",
        "      v[j,i] = 1\n",
        "    return v\n",
        "\n",
        "  def softmax(self,x,derivative = False):\n",
        "    if derivative:\n",
        "      return self.softmax(x)*(1- self.softmax(x))\n",
        "    else:\n",
        "      return (np.exp(x)/np.sum(np.exp(x), axis = 0))\n",
        "\n",
        "  def loss(self, y_pred, y_true):\n",
        "    if self.loss_type == 'cross_entropy':\n",
        "      return -1*np.sum(np.multiply(self.one_hot(y_true), np.log(y_pred))) # To Do: Optimize this using argmax\n",
        "\n",
        "  def initialization(self, weight_initialisation = 'random'):\n",
        "    w = []\n",
        "    b = []\n",
        "\n",
        "    if weight_initialisation == 'random':\n",
        "      w.append(np.random.randn(self.hidden_layers[0],self.num_input_nodes)*0.1)\n",
        "    elif weight_initialisation == 'Xavier':\n",
        "      w.append(np.random.randn(self.hidden_layers[0],self.num_input_nodes)*np.sqrt(2/(self.num_input_nodes+self.hidden_layers[0])))\n",
        "    b.append(np.zeros((self.hidden_layers[0], 1))) \n",
        "\n",
        "    for i in range(1,len(self.hidden_layers)):\n",
        "      if weight_initialisation == 'random':\n",
        "        w.append(np.random.randn(self.hidden_layers[i],self.hidden_layers[i-1])*0.1)\n",
        "      elif weight_initialisation == 'Xavier':\n",
        "        w.append(np.random.randn(self.hidden_layers[i],self.hidden_layers[i-1])*np.sqrt(2/(self.hidden_layers[i-1]+self.hidden_layers[i])))\n",
        "      b.append(np.zeros((self.hidden_layers[i], 1)))\n",
        "\n",
        "    if weight_initialisation == 'random':\n",
        "      w.append(np.random.randn(self.num_output_nodes,self.hidden_layers[len(self.hidden_layers)-1])*0.1)\n",
        "    elif weight_initialisation == 'Xavier':\n",
        "      w.append(np.random.randn(self.num_output_nodes,self.hidden_layers[len(self.hidden_layers)-1])*np.sqrt(2/(self.hidden_layers[len(self.hidden_layers)-1] + self.num_output_nodes)))\n",
        "    b.append(np.zeros((self.num_output_nodes, 1)))\n",
        "\n",
        "    return {'w':w, 'b':b}\n",
        "\n",
        "  def compute_accuracy(self, x_test, y_test):\n",
        "    from sklearn.metrics import accuracy_score\n",
        "    out = self.feed_forward(x_test)\n",
        "    pred = np.argmax(out, axis = 0)\n",
        "    acc=accuracy_score(y_test, pred, normalize=True, sample_weight=None)\n",
        "    return np.mean(pred == y_test)*100\n",
        "\n",
        "  def feed_forward(self, x):\n",
        "    #a=wh+b\n",
        "    #h=activation function(a)\n",
        "    self.a = []\n",
        "    self.h = []\n",
        "    self.h.append(x)\n",
        "\n",
        "    for i in range(0, len(self.hidden_layers)):\n",
        "      self.a.append(np.dot(self.params['w'][i], self.h[-1])+ self.params['b'][i])\n",
        "      self.h.append(self.activation_function(self.a[i]))\n",
        "\n",
        "    self.a.append(np.dot(self.params['w'][-1],self.h[-1])+self.params['b'][-1])\n",
        "\n",
        "    y_hat = self.softmax(self.a[-1])\n",
        "    return y_hat\n",
        "\n",
        "  def back_propagation(self, y_hat, y_true):\n",
        "    self.da = [0]* len(self.a)\n",
        "    self.dh = [0]* (len(self.h)-1)\n",
        "    self.dw = [0]* len(self.params['w'])\n",
        "    self.db = [0]* len(self.params['b'])\n",
        "\n",
        "    self.da[-1] = -1*(y_true - y_hat)\n",
        "\n",
        "    for i in range(len(self.params['w'])-1, 0, -1):\n",
        "      self.dw[i] = np.dot(self.da[i], self.h[i].T) \n",
        "      self.db[i] = self.da[i]\n",
        "\n",
        "      self.dh[i-1] = np.dot(self.params['w'][i].T, self.da[i])\n",
        "      self.da[i-1] = np.multiply(self.dh[i-1], self.activation_function(self.da[i-1], derivative=True))\n",
        "    self.dw[0] = self.da[0], self.dh[0].T\n",
        "    self.db[0] = self.da[0]\n",
        "\n",
        "    return self.dw, self.db\n",
        "\n",
        "  def train(self, x_train, y_train, x_test, y_test):\n",
        "    N = x_train.shape[1]\n",
        "    n_batches = int(np.floor(N / self.batch_size))\n",
        "    train_iter_loss = []\n",
        "    test_iter_loss = []\n",
        "    train_epoch_loss = []\n",
        "    for epoch in range(0, self.epochs):\n",
        "      l = 0\n",
        "      for batch in tqdm(range(0, n_batches)):\n",
        "        x = x_train[:,batch*self.batch_size:self.batch_size+batch*self.batch_size]\n",
        "        y = y_train[batch*self.batch_size:self.batch_size+batch*self.batch_size]\n",
        "        y_hat = self.feed_forward(x)\n",
        "\n",
        "        gW, gB = self.back_propagation(y_hat,self.one_hot(y))\n",
        "        self.params = self.optimizer.update(self.params, gW,gB)\n",
        "        l += self.loss(y_hat, self.one_hot(y))\n",
        "        if batch % 200 == 0:\n",
        "          train_iter_loss.append(self.loss(self.feed_forward(x_train)),self.one_hot(y_train))\n",
        "          test_iter_loss.append(self.loss(self.feed_forward(x_test)),self.one_hot(y_test))\n",
        "\n",
        "      try:\n",
        "        x = x_train[:,-1*N%n_batches:]\n",
        "        y = y_train[-1*N%n_batches:]\n",
        "        y_hat = self.feed_forward(x)\n",
        "        gW, gB = self.back_propagation(y_hat, self.one_hot(y))\n",
        "        self.params = self.optimizer.update(self.params, gW,gB)\n",
        "        l += self.loss(y_hat, y)\n",
        "      except:\n",
        "        pass\n",
        "\n",
        "      train_epoch_loss.append(l/N)\n",
        "      print(f\"Epoch: {epoch}, Epoch-loss: {l/N}\")\n",
        "      print(f\"Train Accuracy: {self.compute_accuracy(x_train, y_train)}\")\n",
        "      print(f\"Test Accuracy: {self.compute_accuracy(x_test, y_test)}\")\n",
        "\n",
        "    return train_iter_loss, test_iter_loss, train_epoch_loss\n",
        "    \n"
      ],
      "metadata": {
        "id": "gUB162oqqzdb"
      },
      "execution_count": 50,
      "outputs": []
    },
    {
      "cell_type": "code",
      "source": [
        "### Optimizer\n",
        "class SGD:\n",
        "  ''' Stochastic Gradient Descent '''\n",
        "  def __init__(self, lr = 0.001):\n",
        "    self.lr = lr\n",
        "      \n",
        "  def update(self, params, gW, gB):\n",
        "    W = np.array(params['w'], dtype = object)\n",
        "    B = np.array(params['b'], dtype = object)\n",
        "    print(W.shape)\n",
        "    print(np.array(gW, dtype = object).shape)\n",
        "    W = (1)*W - self.lr * np.array(gW, dtype = object)\n",
        "    B = (1)*B - self.lr * np.array(gB, dtype = object)\n",
        "\n",
        "    return {'w':W.tolist(), 'b': B.tolist()}"
      ],
      "metadata": {
        "id": "Zs1B_ta_zaV1"
      },
      "execution_count": 22,
      "outputs": []
    },
    {
      "cell_type": "code",
      "source": [
        ""
      ],
      "metadata": {
        "id": "B5252LQ1zaY0"
      },
      "execution_count": null,
      "outputs": []
    },
    {
      "cell_type": "code",
      "source": [
        "model = MLP(epochs = 5,num_input_nodes = 784, hidden_layers = [1024, 2048, 256],num_output_nodes = 10, lr = 0.001, optimizer = SGD(), batch_size= 64, w_initial = 'random', activation_function = 'sigmoid',loss_type='cross_entropy')"
      ],
      "metadata": {
        "id": "lv36qekrvPUB"
      },
      "execution_count": 51,
      "outputs": []
    },
    {
      "cell_type": "code",
      "source": [
        "for i in range(0,4):\n",
        "  print(model.params['w'][i].shape)\n",
        "  print(model.params['b'][i].shape)"
      ],
      "metadata": {
        "id": "QrAMKtQ6q0KB",
        "colab": {
          "base_uri": "https://localhost:8080/"
        },
        "outputId": "daec8e71-2513-474e-dbe9-c5e95d374e46"
      },
      "execution_count": 32,
      "outputs": [
        {
          "output_type": "stream",
          "name": "stdout",
          "text": [
            "(1024, 784)\n",
            "(1024, 1)\n",
            "(2048, 1024)\n",
            "(2048, 1)\n",
            "(256, 2048)\n",
            "(256, 1)\n",
            "(10, 256)\n",
            "(10, 1)\n"
          ]
        }
      ]
    },
    {
      "cell_type": "code",
      "source": [
        "x_train.shape"
      ],
      "metadata": {
        "colab": {
          "base_uri": "https://localhost:8080/"
        },
        "id": "SMkwo47AACIo",
        "outputId": "c3930528-3f9b-4b4e-d4b2-c8e0607da20a"
      },
      "execution_count": 34,
      "outputs": [
        {
          "output_type": "execute_result",
          "data": {
            "text/plain": [
              "(784, 60000)"
            ]
          },
          "metadata": {},
          "execution_count": 34
        }
      ]
    },
    {
      "cell_type": "code",
      "source": [
        "y_hat = model.feed_forward(x_train[:,:16])"
      ],
      "metadata": {
        "id": "lSQVFQQE-KDu"
      },
      "execution_count": 52,
      "outputs": []
    },
    {
      "cell_type": "code",
      "source": [
        "dw, db = model.back_propagation(y_hat, model.one_hot(y_train[:16]))"
      ],
      "metadata": {
        "id": "xJJBDszKAJtX"
      },
      "execution_count": 53,
      "outputs": []
    },
    {
      "cell_type": "code",
      "source": [
        "params = model.optimizer.update(model.params, dw,db)"
      ],
      "metadata": {
        "colab": {
          "base_uri": "https://localhost:8080/",
          "height": 324
        },
        "id": "yms5Z_bBALJ5",
        "outputId": "0121a9de-3546-434f-f746-4892c6753b9a"
      },
      "execution_count": 58,
      "outputs": [
        {
          "output_type": "stream",
          "name": "stdout",
          "text": [
            "(4,)\n",
            "(4,)\n"
          ]
        },
        {
          "output_type": "error",
          "ename": "TypeError",
          "evalue": "ignored",
          "traceback": [
            "\u001b[0;31m---------------------------------------------------------------------------\u001b[0m",
            "\u001b[0;31mTypeError\u001b[0m                                 Traceback (most recent call last)",
            "\u001b[0;32m<ipython-input-58-ef7815e1a2e0>\u001b[0m in \u001b[0;36m<module>\u001b[0;34m\u001b[0m\n\u001b[0;32m----> 1\u001b[0;31m \u001b[0mparams\u001b[0m \u001b[0;34m=\u001b[0m \u001b[0mmodel\u001b[0m\u001b[0;34m.\u001b[0m\u001b[0moptimizer\u001b[0m\u001b[0;34m.\u001b[0m\u001b[0mupdate\u001b[0m\u001b[0;34m(\u001b[0m\u001b[0mmodel\u001b[0m\u001b[0;34m.\u001b[0m\u001b[0mparams\u001b[0m\u001b[0;34m,\u001b[0m \u001b[0mdw\u001b[0m\u001b[0;34m,\u001b[0m\u001b[0mdb\u001b[0m\u001b[0;34m)\u001b[0m\u001b[0;34m\u001b[0m\u001b[0;34m\u001b[0m\u001b[0m\n\u001b[0m",
            "\u001b[0;32m<ipython-input-22-b49124cb3606>\u001b[0m in \u001b[0;36mupdate\u001b[0;34m(self, params, gW, gB)\u001b[0m\n\u001b[1;32m     10\u001b[0m     \u001b[0mprint\u001b[0m\u001b[0;34m(\u001b[0m\u001b[0mW\u001b[0m\u001b[0;34m.\u001b[0m\u001b[0mshape\u001b[0m\u001b[0;34m)\u001b[0m\u001b[0;34m\u001b[0m\u001b[0;34m\u001b[0m\u001b[0m\n\u001b[1;32m     11\u001b[0m     \u001b[0mprint\u001b[0m\u001b[0;34m(\u001b[0m\u001b[0mnp\u001b[0m\u001b[0;34m.\u001b[0m\u001b[0marray\u001b[0m\u001b[0;34m(\u001b[0m\u001b[0mgW\u001b[0m\u001b[0;34m,\u001b[0m \u001b[0mdtype\u001b[0m \u001b[0;34m=\u001b[0m \u001b[0mobject\u001b[0m\u001b[0;34m)\u001b[0m\u001b[0;34m.\u001b[0m\u001b[0mshape\u001b[0m\u001b[0;34m)\u001b[0m\u001b[0;34m\u001b[0m\u001b[0;34m\u001b[0m\u001b[0m\n\u001b[0;32m---> 12\u001b[0;31m     \u001b[0mW\u001b[0m \u001b[0;34m=\u001b[0m \u001b[0;34m(\u001b[0m\u001b[0;36m1\u001b[0m\u001b[0;34m)\u001b[0m\u001b[0;34m*\u001b[0m\u001b[0mW\u001b[0m \u001b[0;34m-\u001b[0m \u001b[0mself\u001b[0m\u001b[0;34m.\u001b[0m\u001b[0mlr\u001b[0m \u001b[0;34m*\u001b[0m \u001b[0mnp\u001b[0m\u001b[0;34m.\u001b[0m\u001b[0marray\u001b[0m\u001b[0;34m(\u001b[0m\u001b[0mgW\u001b[0m\u001b[0;34m,\u001b[0m \u001b[0mdtype\u001b[0m \u001b[0;34m=\u001b[0m \u001b[0mobject\u001b[0m\u001b[0;34m)\u001b[0m\u001b[0;34m\u001b[0m\u001b[0;34m\u001b[0m\u001b[0m\n\u001b[0m\u001b[1;32m     13\u001b[0m     \u001b[0mB\u001b[0m \u001b[0;34m=\u001b[0m \u001b[0;34m(\u001b[0m\u001b[0;36m1\u001b[0m\u001b[0;34m)\u001b[0m\u001b[0;34m*\u001b[0m\u001b[0mB\u001b[0m \u001b[0;34m-\u001b[0m \u001b[0mself\u001b[0m\u001b[0;34m.\u001b[0m\u001b[0mlr\u001b[0m \u001b[0;34m*\u001b[0m \u001b[0mnp\u001b[0m\u001b[0;34m.\u001b[0m\u001b[0marray\u001b[0m\u001b[0;34m(\u001b[0m\u001b[0mgB\u001b[0m\u001b[0;34m,\u001b[0m \u001b[0mdtype\u001b[0m \u001b[0;34m=\u001b[0m \u001b[0mobject\u001b[0m\u001b[0;34m)\u001b[0m\u001b[0;34m\u001b[0m\u001b[0;34m\u001b[0m\u001b[0m\n\u001b[1;32m     14\u001b[0m \u001b[0;34m\u001b[0m\u001b[0m\n",
            "\u001b[0;31mTypeError\u001b[0m: can't multiply sequence by non-int of type 'float'"
          ]
        }
      ]
    },
    {
      "cell_type": "code",
      "source": [
        ""
      ],
      "metadata": {
        "id": "TG9xIJRABJAD"
      },
      "execution_count": null,
      "outputs": []
    }
  ]
}