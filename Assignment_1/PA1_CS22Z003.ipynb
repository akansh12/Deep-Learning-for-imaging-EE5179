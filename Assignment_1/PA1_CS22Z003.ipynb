{
  "nbformat": 4,
  "nbformat_minor": 0,
  "metadata": {
    "colab": {
      "name": " PA1 CS22Z003.ipynb",
      "provenance": [],
      "authorship_tag": "ABX9TyPQRJ2uV55B7+ReevdfCO9L",
      "include_colab_link": true
    },
    "kernelspec": {
      "name": "python3",
      "display_name": "Python 3"
    },
    "language_info": {
      "name": "python"
    }
  },
  "cells": [
    {
      "cell_type": "markdown",
      "metadata": {
        "id": "view-in-github",
        "colab_type": "text"
      },
      "source": [
        "<a href=\"https://colab.research.google.com/github/akansh12/Deep-Learning-for-imaging-EE5179/blob/main/Assignment_1/PA1_CS22Z003.ipynb\" target=\"_parent\"><img src=\"https://colab.research.google.com/assets/colab-badge.svg\" alt=\"Open In Colab\"/></a>"
      ]
    },
    {
      "cell_type": "markdown",
      "source": [
        "# MNIST Classification using MLP\n"
      ],
      "metadata": {
        "id": "q-Acap1SgWyb"
      }
    },
    {
      "cell_type": "markdown",
      "source": [
        "By \n",
        "- Akansh Maurya (CS22Z003)"
      ],
      "metadata": {
        "id": "2RgCHb3Ui82c"
      }
    },
    {
      "cell_type": "markdown",
      "source": [
        "Tasks to to:\n",
        "- Baseline: IP-h(500)-h(250)-h(100)-OP\n",
        "- Activation functions for hidden layers: Sigmoid and for the Output layer it is softmax\n",
        "- Gradient-Descent\n",
        "- lr = 0.01, batch size = 64, epoch = 15\n",
        "-  Extra marks for experimentations\n",
        "- Glorot Initialization\n",
        "- Plot the loss for 200 iterations\n",
        "- Confustion matrix and classification report\n",
        "1.1\n",
        "- Use Tanh and RELU\n",
        "\n",
        "Task 2:\n",
        "- Use pytorch for the same\n",
        "- Add L2 Regularization to it."
      ],
      "metadata": {
        "id": "bi2x5f2qgSUu"
      }
    },
    {
      "cell_type": "markdown",
      "source": [
        "###Imports"
      ],
      "metadata": {
        "id": "rSZ1i9nPjYDj"
      }
    },
    {
      "cell_type": "code",
      "source": [
        "import tensorflow as tf\n",
        "import torch\n",
        "import keras\n",
        "import torchvision\n",
        "import numpy as np\n",
        "from  matplotlib import pyplot as plt\n",
        "from PIL import Image\n",
        "from sklearn.model_selection import train_test_split\n",
        "from tqdm.auto import tqdm"
      ],
      "metadata": {
        "id": "CNpq2VWIjdBS"
      },
      "execution_count": 1,
      "outputs": []
    },
    {
      "cell_type": "markdown",
      "source": [
        "Downloading the Dataset"
      ],
      "metadata": {
        "id": "MtymctNZjUlb"
      }
    },
    {
      "cell_type": "code",
      "source": [
        "# source: https://keras.io/api/datasets/mnist/\n",
        "tf.keras.datasets.mnist.load_data(path=\"mnist.npz\")\n",
        "(x_train, y_train), (x_test, y_test) = keras.datasets.mnist.load_data()\n",
        "print(x_train.shape)\n",
        "print(y_train.shape)\n",
        "print(x_test.shape)\n",
        "print(y_test.shape)"
      ],
      "metadata": {
        "colab": {
          "base_uri": "https://localhost:8080/"
        },
        "id": "tuSuNiYjgTBx",
        "outputId": "76252a2c-e02e-4f68-94f4-7e67679ea5a1"
      },
      "execution_count": 2,
      "outputs": [
        {
          "output_type": "stream",
          "name": "stdout",
          "text": [
            "Downloading data from https://storage.googleapis.com/tensorflow/tf-keras-datasets/mnist.npz\n",
            "11493376/11490434 [==============================] - 0s 0us/step\n",
            "11501568/11490434 [==============================] - 0s 0us/step\n",
            "(60000, 28, 28)\n",
            "(60000,)\n",
            "(10000, 28, 28)\n",
            "(10000,)\n"
          ]
        }
      ]
    },
    {
      "cell_type": "markdown",
      "source": [
        "### Reshaping the dataset"
      ],
      "metadata": {
        "id": "ekNbyGONng-W"
      }
    },
    {
      "cell_type": "code",
      "source": [
        "x_train = np.array(x_train.reshape(x_train.shape[0], 784)).T\n",
        "x_test = np.array(x_test.reshape(x_test.shape[0], 784)).T\n",
        "x_train = (x_train/255.0).astype(np.float32)\n",
        "x_test = (x_test/255.0).astype(np.float32)"
      ],
      "metadata": {
        "id": "Z1Rh7u8GnRBG"
      },
      "execution_count": 3,
      "outputs": []
    },
    {
      "cell_type": "code",
      "source": [
        "print(\"Train Dataset Shape: \", x_train.shape)\n",
        "print(\"Train Target Vector Shape: \", y_train.shape) \n",
        "print(\"Test Dataset Shape:\", x_test.shape)\n",
        "print(\"Test Target Vector Shape\", y_test.shape)"
      ],
      "metadata": {
        "colab": {
          "base_uri": "https://localhost:8080/"
        },
        "id": "Igf2TjDSkyP6",
        "outputId": "e864943b-760c-4d94-f9c1-f8d20731f655"
      },
      "execution_count": 4,
      "outputs": [
        {
          "output_type": "stream",
          "name": "stdout",
          "text": [
            "Train Dataset Shape:  (784, 60000)\n",
            "Train Target Vector Shape:  (60000,)\n",
            "Test Dataset Shape: (784, 10000)\n",
            "Test Target Vector Shape (10000,)\n"
          ]
        }
      ]
    },
    {
      "cell_type": "code",
      "source": [
        "plt.figure()\n",
        "plt.imshow(x_train[:,48].reshape(28,28))\n",
        "print(y_train[48])\n",
        "plt.figure()\n",
        "plt.imshow(x_test[:,75].reshape(28,28))\n",
        "print(y_test[75])"
      ],
      "metadata": {
        "colab": {
          "base_uri": "https://localhost:8080/",
          "height": 548
        },
        "id": "g4GmV_evncOl",
        "outputId": "086b6abd-f6ce-4d6b-fc0f-80ea901a92f0"
      },
      "execution_count": 6,
      "outputs": [
        {
          "output_type": "stream",
          "name": "stdout",
          "text": [
            "9\n",
            "7\n"
          ]
        },
        {
          "output_type": "display_data",
          "data": {
            "text/plain": [
              "<Figure size 432x288 with 1 Axes>"
            ],
            "image/png": "[encoded data removed]"
          },
          "metadata": {
            "needs_background": "light"
          }
        },
        {
          "output_type": "display_data",
          "data": {
            "text/plain": [
              "<Figure size 432x288 with 1 Axes>"
            ],
            "image/png": "[encoded data removed]"
          },
          "metadata": {
            "needs_background": "light"
          }
        }
      ]
    },
    {
      "cell_type": "code",
      "source": [
        ""
      ],
      "metadata": {
        "id": "mN7IXDwclnrq"
      },
      "execution_count": null,
      "outputs": []
    },
    {
      "cell_type": "code",
      "source": [
        ""
      ],
      "metadata": {
        "id": "IgD3VclPlnuD"
      },
      "execution_count": null,
      "outputs": []
    },
    {
      "cell_type": "code",
      "source": [
        ""
      ],
      "metadata": {
        "id": "H1L3iDc2lnwi"
      },
      "execution_count": null,
      "outputs": []
    },
    {
      "cell_type": "code",
      "source": [
        ""
      ],
      "metadata": {
        "id": "mjychvIElny6"
      },
      "execution_count": null,
      "outputs": []
    },
    {
      "cell_type": "code",
      "source": [
        ""
      ],
      "metadata": {
        "id": "UK_pmN-Vln1t"
      },
      "execution_count": null,
      "outputs": []
    },
    {
      "cell_type": "code",
      "source": [
        "class MLP():\n",
        "  def __init__(self, epochs, num_input_nodes, hidden_layers, num_output_nodes, lr, optimizer, batch_size, activation_function = 'sigmoid', loss_type = 'cross_entropy', w_initial = 'glorot'):\n",
        "    self.epochs = epochs\n",
        "    self.lr = lr \n",
        "    self.optimizer = optimizer\n",
        "    self.optimizer.lr = self.lr      \n",
        "    self.batch_size = batch_size\n",
        "    self.num_input_nodes = num_input_nodes\n",
        "    self.hidden_layers = hidden_layers\n",
        "    self.num_output_nodes = num_output_nodes\n",
        "    self.loss_type = loss_type\n",
        "    #Activation function\n",
        "    self.activation_function = self.sigmoid\n",
        "    #parameter initialization\n",
        "    self.params = self.initialization(weight_initialisation = w_initial)\n",
        "\n",
        "  def sigmoid(self,x, derivative = False):\n",
        "    if derivative:\n",
        "      return self.sigmoid(x)*(1-self.sigmoid(x))\n",
        "    else:\n",
        "      return 1/(1 + np.exp(-x))\n",
        "\n",
        "  def one_hot(self,y):\n",
        "    v = np.zeros((self.num_output_nodes, len(y)))\n",
        "    for i,j in enumerate(y):\n",
        "      v[j,i] = 1\n",
        "    return v\n",
        "\n",
        "  def softmax(self,x,derivative = False):\n",
        "    if derivative:\n",
        "      return self.softmax(x)*(1- self.softmax(x))\n",
        "    else:\n",
        "      return (np.exp(x)/np.sum(np.exp(x), axis = 0))\n",
        "  def loss(self, y_pred, y_true):\n",
        "    if self.loss_type == 'cross_entropy':\n",
        "      return -1*np.mean(np.multiply(self.one_hot(y_true), np.log(y_pred))) # To Do: Optimize this using argmax\n",
        "\n",
        "  def initialization(self, weight_initialisation = 'random'):\n",
        "    w = []\n",
        "    b = []\n",
        "\n",
        "    if weight_initialisation == 'random':\n",
        "      w.append(np.random.randn(self.hidden_layers[0],self.num_input_nodes)*0.1)\n",
        "    elif weight_initialisation == 'Xavier':\n",
        "      w.append(np.random.randn(self.hidden_layers[0],self.num_input_nodes)*np.sqrt(2/(self.num_input_nodes+self.hidden_layers[0])))\n",
        "    b.append(np.zeros((self.hidden_layers[0], 1))) \n",
        "\n",
        "    for i in range(1,len(self.hidden_layers)):\n",
        "      if weight_initialisation == 'random':\n",
        "        w.append(np.random.randn(self.hidden_layers[i],self.hidden_layers[i-1])*0.1)\n",
        "      elif weight_initialisation == 'Xavier':\n",
        "        w.append(np.random.randn(self.hidden_layers[i],self.hidden_layers[i-1])*np.sqrt(2/(self.hidden_layers[i-1]+self.hidden_layers[i])))\n",
        "      b.append(np.zeros((self.hidden_layers[i], 1)))\n",
        "\n",
        "    if weight_initialisation == 'random':\n",
        "      w.append(np.random.randn(self.num_output_nodes,self.hidden_layers[len(self.hidden_layers)-1])*0.1)\n",
        "    elif weight_initialisation == 'Xavier':\n",
        "      w.append(np.random.randn(self.num_output_nodes,self.hidden_layers[len(self.hidden_layers)-1])*np.sqrt(2/(self.hidden_layers[len(self.hidden_layers)-1] + self.num_output_nodes)))\n",
        "    b.append(np.zeros((self.num_output_nodes, 1)))\n",
        "\n",
        "    return {'w':w, 'b':b}\n",
        "\n",
        "  def feed_forward(self, x):\n",
        "    #a=wh+b\n",
        "    #h=activation function(a)\n",
        "    self.a = []\n",
        "    self.h = []\n",
        "    self.h.append(x)\n",
        "\n",
        "    for i in range(0, len(self.hidden_layers)):\n",
        "      self.a.append(np.dot(self.params['w'][i], self.h[-1])+ self.params['b'][i])\n",
        "      self.h.append(self.activation_function(self.a[i]))\n",
        "\n",
        "    self.a.append(np.dot(self.params['w'][-1],self.h[-1])+self.params['b'][-1])\n",
        "\n",
        "    y_hat = self.softmax(self.a[-1])\n",
        "    return y_hat\n",
        "\n",
        "  def back_propagation(self, y_hat, y_true):\n",
        "    self.da = [0]* len(self.a)\n",
        "    self.dh = [0]* len(self.h)-1\n",
        "    self.dw = [0]* len(self.params['w'])\n",
        "    self.db = [0]* len(self.params['b'])\n",
        "\n",
        "    self.da[-1] = -1*(y_true - y_hat)\n",
        "\n",
        "    for i in range(len(self.params['w'])-1, 0, -1):\n",
        "      self.dw[i] = np.dot(self.da[i], self.h[i].T) \n",
        "      self.db[i] = self.da[i]\n",
        "\n",
        "      self.dh[i-1] = np.dot(self.params['w'][i].T, self.da[i])\n",
        "      self.da[i-1] = np.multiply(self.dh[i-1], self.activation_function(self.da[i-1], derivative=True))\n",
        "    self.dw[0] = self.da[0], self.dh[0].T\n",
        "    self.db[0] = self.da[0]\n",
        "\n",
        "    return self.dw, self.db\n"
      ],
      "metadata": {
        "id": "gUB162oqqzdb"
      },
      "execution_count": null,
      "outputs": []
    },
    {
      "cell_type": "code",
      "source": [
        ""
      ],
      "metadata": {
        "id": "lv36qekrvPUB"
      },
      "execution_count": null,
      "outputs": []
    },
    {
      "cell_type": "code",
      "source": [
        "  def feed_forward(self, x):\n",
        "    #a=wh+b\n",
        "    #h=activation function(a)\n",
        "    self.a = []\n",
        "    self.h = []\n",
        "    self.h.append(x)\n",
        "\n",
        "    for i in range(0, len(self.hidden_layers)):\n",
        "      self.a.append(np.dot(self.params['w'][i], self.h[-1])+ self.params['b'][i])\n",
        "      self.h.append(self.activation_function(self.a[i]))\n",
        "\n",
        "    self.a.append(np.dot(self.params['w'][-1],self.h[-1])+self.params['b'][-1])\n",
        "\n",
        "    y_hat = self.softmax(self.a[-1])\n",
        "    return y_hat"
      ],
      "metadata": {
        "id": "shD1lxaXvu7C"
      },
      "execution_count": null,
      "outputs": []
    },
    {
      "cell_type": "code",
      "source": [
        "x_train.shape"
      ],
      "metadata": {
        "colab": {
          "base_uri": "https://localhost:8080/"
        },
        "id": "0iDtiBAPvu94",
        "outputId": "5eb9a28f-0ace-4bd1-e032-8a82d4813a8f"
      },
      "execution_count": null,
      "outputs": [
        {
          "output_type": "execute_result",
          "data": {
            "text/plain": [
              "(60000, 784)"
            ]
          },
          "metadata": {},
          "execution_count": 44
        }
      ]
    },
    {
      "cell_type": "code",
      "source": [
        "A.shape"
      ],
      "metadata": {
        "colab": {
          "base_uri": "https://localhost:8080/"
        },
        "id": "dAx7xtc6w0VB",
        "outputId": "000e5e4b-a968-450d-9bae-037a5ad246d3"
      },
      "execution_count": null,
      "outputs": [
        {
          "output_type": "execute_result",
          "data": {
            "text/plain": [
              "(10, 60000)"
            ]
          },
          "metadata": {},
          "execution_count": 45
        }
      ]
    },
    {
      "cell_type": "code",
      "source": [
        "class DeepNeuralNetwork():\n",
        "  def __init__(self,epochs,num_input_nodes, hidden_layers,num_output_nodes, lr, weight_decay, optimizer, batch_size, w_initial, activation_function = 'sigmoid', loss_type = 'cross_entropy'):\n",
        "    self.epochs = epochs\n",
        "    self.lr = lr \n",
        "    self.weight_decay = weight_decay\n",
        "    self.optimizer = optimizer\n",
        "    self.optimizer.lr = self.lr      \n",
        "    self.batch_size = batch_size\n",
        "    self.num_input_nodes = num_input_nodes\n",
        "    self.hidden_layers = hidden_layers\n",
        "    self.num_output_nodes = num_output_nodes\n",
        "    self.loss_type = loss_type\n",
        "    #Activation function\n",
        "    self.activation_function = self.activation(activation_function)\n",
        "\n",
        "    #parameter initialization\n",
        "    self.params = self.initialization(weight_initialisation = w_initial)\n",
        "\n",
        "\n",
        "  def initialization(self, weight_initialisation = 'random'):\n",
        "    w = []\n",
        "    b = []\n",
        "\n",
        "    if weight_initialisation == 'random':\n",
        "      w.append(np.random.randn(self.hidden_layers[0],self.num_input_nodes)*0.1)\n",
        "    elif weight_initialisation == 'Xavier':\n",
        "      w.append(np.random.randn(self.hidden_layers[0],self.num_input_nodes)*np.sqrt(2/(self.num_input_nodes+self.hidden_layers[0])))\n",
        "    b.append(np.zeros((self.hidden_layers[0], 1)))  #np.random.randn(self.hidden_layers[0],1)*0.01\n",
        "\n",
        "    for i in range(1,len(self.hidden_layers)):\n",
        "      if weight_initialisation == 'random':\n",
        "        w.append(np.random.randn(self.hidden_layers[i],self.hidden_layers[i-1])*0.1)\n",
        "      elif weight_initialisation == 'Xavier':\n",
        "        w.append(np.random.randn(self.hidden_layers[i],self.hidden_layers[i-1])*np.sqrt(2/(self.hidden_layers[i-1]+self.hidden_layers[i])))\n",
        "      #b.append(np.random.randn(self.hidden_layers[i],1)*0.01)\n",
        "      b.append(np.zeros((self.hidden_layers[i], 1)))\n",
        "\n",
        "    if weight_initialisation == 'random':\n",
        "      w.append(np.random.randn(self.num_output_nodes,self.hidden_layers[len(self.hidden_layers)-1])*0.1)\n",
        "    elif weight_initialisation == 'Xavier':\n",
        "      w.append(np.random.randn(self.num_output_nodes,self.hidden_layers[len(self.hidden_layers)-1])*np.sqrt(2/(self.hidden_layers[len(self.hidden_layers)-1] + self.num_output_nodes)))\n",
        "    #b.append(np.random.randn(self.num_output_nodes,1)*0.01)\n",
        "    b.append(np.zeros((self.num_output_nodes, 1)))\n",
        "\n",
        "    return {'w':w, 'b':b}\n",
        "\n",
        "  def activation(self, activation_function):\n",
        "\n",
        "    if activation_function == 'sigmoid':\n",
        "      return self.sigmoid\n",
        "    if activation_function == 'tanh':\n",
        "      return self.tanh\n",
        "    if activation_function == 'ReLU':\n",
        "      return self.relu\n",
        "\n",
        "  def sigmoid(self,x, derivative = False):\n",
        "    if derivative:\n",
        "      return (1/(1 + np.exp(-x)))*(1-(1/(1 + np.exp(-x))))#self.sigmoid(x)*(1-self.sigmoid(x))\n",
        "    else:\n",
        "      return 1/(1 + np.exp(-x))  \n",
        "\n",
        "  def tanh(self, x, derivative = False):\n",
        "    if derivative:\n",
        "      return 1 - self.tanh(x)**2\n",
        "    return (np.exp(x)-np.exp(-x))/(np.exp(x)+np.exp(-x))\n",
        "\n",
        "  def relu(self, x, derivative = False):\n",
        "    if derivative:\n",
        "      return (x>0)*1 \n",
        "    return x*(x>0)\n",
        "\n",
        "  def softmax(self,x,derivative = False):\n",
        "    if derivative:\n",
        "      return (np.exp(x)/np.sum(np.exp(x), axis = 0))*(1- (np.exp(x)/np.sum(np.exp(x), axis = 0))) #self.softmax(x)*(1- self.softmax(x))\n",
        "    else:\n",
        "      return (np.exp(x)/np.sum(np.exp(x), axis = 0))\n",
        "\n",
        "  def one_hot(self,y):\n",
        "    v = np.zeros((self.num_output_nodes, len(y)))\n",
        "    for i,j in enumerate(y):\n",
        "      v[j,i] = 1\n",
        "    return v\n",
        "    \n",
        "\n",
        "  def compute_accuracy(self, x_val, y_val):\n",
        "\n",
        "    from sklearn.metrics import accuracy_score\n",
        "\n",
        "    x_val = x_val.reshape(self.num_input_nodes, -1)\n",
        "\n",
        "    out = self.feed_forward(x_val)\n",
        "    pred = np.argmax(out, axis = 0)\n",
        "\n",
        "    acc=accuracy_score(y_val, pred, normalize=True, sample_weight=None)\n",
        "\n",
        "\n",
        "    return np.mean(pred == y_val)*100\n",
        "\n",
        "\n",
        "\n",
        "  def loss(self, y_pred, y_true):\n",
        "    if self.loss_type == 'cross_entropy':\n",
        "      return -1*np.sum(np.multiply(self.one_hot(y_true), np.log(y_pred)))\n",
        "    if self.loss_type == 'mean_square_error':\n",
        "      return np.mean((self.one_hot(y_true) - y_pred) ** 2) #np.sum((self.one_hot(y_true) - y_pred) ** 2)*0.5\n",
        "\n",
        "  def feed_forward(self, x):\n",
        "    #a=wh+b\n",
        "    #h=activation function(a)\n",
        "    self.a = []\n",
        "    self.h = []\n",
        "    self.a.append(np.dot(self.params['w'][0], x) + self.params['b'][0])\n",
        "    self.h.append(self.activation_function(self.a[0]))\n",
        "\n",
        "    for i in range(1, len(self.hidden_layers)):\n",
        "      self.a.append(np.dot(self.params['w'][i], self.h[i-1])+ self.params['b'][i])\n",
        "      self.h.append(self.activation_function(self.a[i]))\n",
        "\n",
        "    self.a.append(np.dot(self.params['w'][len(self.hidden_layers)],self.h[len(self.hidden_layers)-1])+self.params['b'][len(self.hidden_layers)])\n",
        "\n",
        "    out = self.softmax(self.a[len(self.hidden_layers)])\n",
        "    return out\n",
        "    \"\"\"\n",
        "  def back_propagation(self,x, y_train,y_train_prob):\n",
        "    self.ga= [0]*(len(self.a))\n",
        "    self.gh= [0]*(len(self.h)) \n",
        "    self.gW= [0]*(len(self.params['w']))\n",
        "    self.gB= [0]*(len(self.params['b']))\n",
        "\n",
        "    if self.loss_type == 'cross_entropy':\n",
        "      self.ga[len(self.hidden_layers)]= -1*(self.one_hot(y_train)-y_train_prob)\n",
        "\n",
        "    if self.loss_type== 'mean_square_error': \n",
        "      self.ga[len(self.hidden_layers)]= np.multiply(2 *(y_train_prob -self.one_hot(y_train)), np.multiply(y_train_prob, (1 - y_train_prob)))\n",
        "      \n",
        "  \n",
        "      #(self.one_hot(y_train)-y_train_prob)*self.one_hot(y_train)*(1 - self.one_hot(y_train))  ## Check this Y-->y_train_prob,Y_train_batch->y_train\n",
        "\n",
        "    for i in range(len(self.hidden_layers), 0,-1):\n",
        "      self.gW[i] = np.outer(self.ga[i], self.h[i-1])   ###\n",
        "      self.gB[i] = self.ga[i]\n",
        "\n",
        "      self.gh[i-1] = np.matmul(self.params['w'][i].T, self.ga[i])\n",
        "      self.ga[i-1] = np.multiply(self.gh[i-1], self.activation_function(self.a[i-1], derivative = True))  ### Check this\n",
        "    \n",
        "    self.gW[0] = np.dot(self.ga[0], x.T)\n",
        "    self.gB[0] = np.dot(self.ga[0], np.ones((self.batch_size, 1)))\n",
        "\n",
        "    return self.gW, self.gB\n",
        "    \"\"\"\n",
        "########\n",
        "    \n",
        "  def back_propagation(self,x, y_train,y_train_prob):\n",
        "    self.ga= [0]*(len(self.a))\n",
        "    self.gh= [0]*(len(self.h)) \n",
        "    self.gW= [0]*(len(self.params['w']))\n",
        "    self.gB= [0]*(len(self.params['b']))\n",
        "    #num_layers=len(self.hidden_layers)+1\n",
        "    num_layers=len(self.params['w'])+1\n",
        "    gradients_weights = []\n",
        "    gradients_biases = []\n",
        "    if self.loss_type == 'cross_entropy':\n",
        "      self.ga[num_layers-1]= -1*(self.one_hot(y_train)-y_train_prob)\n",
        "\n",
        "    if self.loss_type== 'mean_square_error': \n",
        "      self.ga[num_layers-1]= np.multiply(2 *(y_train_prob -self.one_hot(y_train)), np.multiply(y_train_prob, (1 - y_train_prob)))\n",
        "      \n",
        "  \n",
        "      #(self.one_hot(y_train)-y_train_prob)*self.one_hot(y_train)*(1 - self.one_hot(y_train))  ## Check this Y-->y_train_prob,Y_train_batch->y_train\n",
        "\n",
        "    for i in range(num_layers -2, -1,-1):\n",
        "      self.gW[i+1] = np.outer(self.ga[i+1], self.h[i])   ###\n",
        "      self.gB[i+1] = self.ga[i+1]\n",
        "      gradients_weights.append(self.gW[i+1])\n",
        "      gradients_biases.append(self.gB[i+1])\n",
        "      if i!=0:\n",
        "        self.gh[i] = np.matmul(self.params['w'][i+1].T, self.ga[i+1])\n",
        "        self.ga[i] = np.multiply(self.gh[i], self.activation_function(self.a[i], derivative = True))  ### Check this\n",
        "      if i==0:\n",
        "        self.gh[i] = np.matmul(self.params['w'][i+1].T, self.ga[i+1])\n",
        "        self.ga[i] = np.multiply(self.gh[i], self.a[i])  ### Check this\n",
        "  \n",
        "    return gradients_weights, gradients_biases\n",
        "    \n",
        "  \"\"\"\n",
        "  def initgrads(N=3,Nunits=[32,64,16]):\n",
        "    dh,da,dw,db=[],[],[],[]\n",
        "    dw.append(np.zeros((Nunits[0],784)))\n",
        "    db.append(np.zeros(Nunits[0]))\n",
        "    da.append(np.zeros(Nunits[0]))\n",
        "    dh.append(np.zeros(Nunits[0]))\n",
        "    for i in range(1,N):\n",
        "      dw.append(np.zeros((Nunits[i],Nunits[i-1])))\n",
        "      db.append(np.zeros(Nunits[i]))\n",
        "      da.append(np.zeros(Nunits[i]))\n",
        "      dh.append(np.zeros(Nunits[i]))\n",
        "    dw.append(np.zeros((10,Nunits[-1])))\n",
        "    db.append(np.zeros(10))\n",
        "    da.append(np.zeros(10))\n",
        "    dh.append(np.zeros(10))\n",
        "    return dw,db,da,dh    \n",
        "  \n",
        "  def back_propagation(self,ip,ypr,ty,a_i,h_i,W,B,N,nrl,activation,Loss):\n",
        "    k=len(ypr)\n",
        "    dw,db,da,dh=initgrads(N=3,nrl=[32,64,16])\n",
        "    if (Loss==\"cross_entropy\"):\n",
        "      dh[-1]=[-(t/ypr) if t==1 else 0 for t in ty ]\n",
        "      da[-1]=ypr-ty\n",
        "    elif (Loss==\"mean_square_error\"):\n",
        "      dh[-1]=(ypr-ty)\n",
        "      da[-1]=dh[-1]*(ypr-ypr**2)\n",
        "\n",
        "    db[-1]=da[-1] \n",
        "    dw[-1]=np.dot((da[-1][:,np.newaxis]),(h_i[-2][:,np.newaxis]).T)\n",
        " \n",
        "    for i in range(N-1,-1,-1):\n",
        "      dh[i]=np.squeeze(np.dot(W[i+1].T,da[i+1]))\n",
        "\n",
        "      da[i]=dh[i]*self.activation_function(self.a_i[i], derivative = True)\n",
        "  \n",
        "      db[i]=np.copy(da[i])\n",
        "      if (i==0):\n",
        "        dw[i]=np.dot(da[i][:,np.newaxis],ip[:,np.newaxis].T)\n",
        "      else:\n",
        "        dw[i]=np.dot(da[i][:,np.newaxis],h_i[i-1][:,np.newaxis].T)\n",
        "    return dw,db\n",
        "    \"\"\"\n",
        "\n",
        "  def train(self, x_train, y_train, x_val, y_val):\n",
        "    N = x_train.shape[0]\n",
        "    n_batches = int(np.floor(N / self.batch_size))\n",
        "    for epoch in range(0, self.epochs):\n",
        "\n",
        "      #data shuffle\n",
        "      # shuffler = np.random.permutation(len(x_train))\n",
        "      # x_train = x_train[shuffler]\n",
        "      # y_train = y_train[shuffler]\n",
        "\n",
        "      l = 0\n",
        "      for batch in tqdm(range(0, n_batches)):\n",
        "        x = x_train[batch*self.batch_size:self.batch_size+batch*self.batch_size].reshape(self.num_input_nodes,self.batch_size)\n",
        "        y = y_train[batch*self.batch_size:self.batch_size+batch*self.batch_size]\n",
        "        out = self.feed_forward(x)\n",
        "        \"\"\"    \n",
        "        yhot=self.one_hot(y)\n",
        "        print(x[:,0].shape)  #ftrx[i]\n",
        "        print(yhot[:,0].shape) #ftry[i]\n",
        "         \"\"\"\n",
        "        # gw,gb=Back_Prop(ftrx[i],pred_y,ftry[i],ai,hi,W,B,N,nrl,activation,Ls_fun)\n",
        "        gW, gB = self.back_propagation(x, y, out)\n",
        "        self.params = self.optimizer.update(self.params, gW,gB)\n",
        "        l += self.loss(out, y)\n",
        "       \n",
        "      try:\n",
        "        x = x_train[-1*N%n_batches:].reshape(self.num_input_nodes,N%n_batches)\n",
        "        y = y_train[-1*N%n_batches:]\n",
        "        out = self.feed_forward(x)\n",
        "        gW, gB = self.back_propagation(x, y, out)\n",
        "        self.params = self.optimizer.update(self.params, gW,gB)\n",
        "        l += self.loss(out, y)\n",
        "      except:\n",
        "        pass\n",
        "\n",
        "      print(f\"Epoch: {epoch}, loss: {l/N}\")\n",
        "      print(f\"Accuracy: {self.compute_accuracy(x_val, y_val)}\")\n"
      ],
      "metadata": {
        "id": "QrAMKtQ6q0KB"
      },
      "execution_count": null,
      "outputs": []
    }
  ]
}