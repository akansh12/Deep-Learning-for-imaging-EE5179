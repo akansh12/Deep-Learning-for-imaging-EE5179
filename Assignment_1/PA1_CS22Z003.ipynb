{
  "nbformat": 4,
  "nbformat_minor": 0,
  "metadata": {
    "colab": {
      "name": " PA1 CS22Z003.ipynb",
      "provenance": [],
      "collapsed_sections": [],
      "authorship_tag": "ABX9TyPkujcTubvoK+3b6TjM+sAH",
      "include_colab_link": true
    },
    "kernelspec": {
      "name": "python3",
      "display_name": "Python 3"
    },
    "language_info": {
      "name": "python"
    },
    "widgets": {
      "application/vnd.jupyter.widget-state+json": {
        "0d208c72708f4c64826c4d9073ffb9dc": {
          "model_module": "@jupyter-widgets/controls",
          "model_name": "HBoxModel",
          "model_module_version": "1.5.0",
          "state": {
            "_dom_classes": [],
            "_model_module": "@jupyter-widgets/controls",
            "_model_module_version": "1.5.0",
            "_model_name": "HBoxModel",
            "_view_count": null,
            "_view_module": "@jupyter-widgets/controls",
            "_view_module_version": "1.5.0",
            "_view_name": "HBoxView",
            "box_style": "",
            "children": [
              "IPY_MODEL_d9e9339c87b54e8d8c7fcc3eb3ada99d",
              "IPY_MODEL_76be613cad704b41b59fbb48a7cd5b36",
              "IPY_MODEL_9896e2f7747046e2a05e8660e037e1db"
            ],
            "layout": "IPY_MODEL_6bae747c55224b21afa24be30fc47df7"
          }
        },
        "d9e9339c87b54e8d8c7fcc3eb3ada99d": {
          "model_module": "@jupyter-widgets/controls",
          "model_name": "HTMLModel",
          "model_module_version": "1.5.0",
          "state": {
            "_dom_classes": [],
            "_model_module": "@jupyter-widgets/controls",
            "_model_module_version": "1.5.0",
            "_model_name": "HTMLModel",
            "_view_count": null,
            "_view_module": "@jupyter-widgets/controls",
            "_view_module_version": "1.5.0",
            "_view_name": "HTMLView",
            "description": "",
            "description_tooltip": null,
            "layout": "IPY_MODEL_bf6d0b1eeec34124b53885c49e78dc03",
            "placeholder": "​",
            "style": "IPY_MODEL_ef2c37781d4247bbac6b7a05193a0e37",
            "value": "100%"
          }
        },
        "76be613cad704b41b59fbb48a7cd5b36": {
          "model_module": "@jupyter-widgets/controls",
          "model_name": "FloatProgressModel",
          "model_module_version": "1.5.0",
          "state": {
            "_dom_classes": [],
            "_model_module": "@jupyter-widgets/controls",
            "_model_module_version": "1.5.0",
            "_model_name": "FloatProgressModel",
            "_view_count": null,
            "_view_module": "@jupyter-widgets/controls",
            "_view_module_version": "1.5.0",
            "_view_name": "ProgressView",
            "bar_style": "success",
            "description": "",
            "description_tooltip": null,
            "layout": "IPY_MODEL_9d8a71a712944a73b5d6d9e909e60caa",
            "max": 937,
            "min": 0,
            "orientation": "horizontal",
            "style": "IPY_MODEL_9626112291e14a839cfc2ae177c8af88",
            "value": 937
          }
        },
        "9896e2f7747046e2a05e8660e037e1db": {
          "model_module": "@jupyter-widgets/controls",
          "model_name": "HTMLModel",
          "model_module_version": "1.5.0",
          "state": {
            "_dom_classes": [],
            "_model_module": "@jupyter-widgets/controls",
            "_model_module_version": "1.5.0",
            "_model_name": "HTMLModel",
            "_view_count": null,
            "_view_module": "@jupyter-widgets/controls",
            "_view_module_version": "1.5.0",
            "_view_name": "HTMLView",
            "description": "",
            "description_tooltip": null,
            "layout": "IPY_MODEL_5a99e450a2d341808e84a11fe397d6fc",
            "placeholder": "​",
            "style": "IPY_MODEL_d7973c0028874ec4816f4d1b92f6e439",
            "value": " 937/937 [03:38&lt;00:00,  9.22it/s]"
          }
        },
        "6bae747c55224b21afa24be30fc47df7": {
          "model_module": "@jupyter-widgets/base",
          "model_name": "LayoutModel",
          "model_module_version": "1.2.0",
          "state": {
            "_model_module": "@jupyter-widgets/base",
            "_model_module_version": "1.2.0",
            "_model_name": "LayoutModel",
            "_view_count": null,
            "_view_module": "@jupyter-widgets/base",
            "_view_module_version": "1.2.0",
            "_view_name": "LayoutView",
            "align_content": null,
            "align_items": null,
            "align_self": null,
            "border": null,
            "bottom": null,
            "display": null,
            "flex": null,
            "flex_flow": null,
            "grid_area": null,
            "grid_auto_columns": null,
            "grid_auto_flow": null,
            "grid_auto_rows": null,
            "grid_column": null,
            "grid_gap": null,
            "grid_row": null,
            "grid_template_areas": null,
            "grid_template_columns": null,
            "grid_template_rows": null,
            "height": null,
            "justify_content": null,
            "justify_items": null,
            "left": null,
            "margin": null,
            "max_height": null,
            "max_width": null,
            "min_height": null,
            "min_width": null,
            "object_fit": null,
            "object_position": null,
            "order": null,
            "overflow": null,
            "overflow_x": null,
            "overflow_y": null,
            "padding": null,
            "right": null,
            "top": null,
            "visibility": null,
            "width": null
          }
        },
        "bf6d0b1eeec34124b53885c49e78dc03": {
          "model_module": "@jupyter-widgets/base",
          "model_name": "LayoutModel",
          "model_module_version": "1.2.0",
          "state": {
            "_model_module": "@jupyter-widgets/base",
            "_model_module_version": "1.2.0",
            "_model_name": "LayoutModel",
            "_view_count": null,
            "_view_module": "@jupyter-widgets/base",
            "_view_module_version": "1.2.0",
            "_view_name": "LayoutView",
            "align_content": null,
            "align_items": null,
            "align_self": null,
            "border": null,
            "bottom": null,
            "display": null,
            "flex": null,
            "flex_flow": null,
            "grid_area": null,
            "grid_auto_columns": null,
            "grid_auto_flow": null,
            "grid_auto_rows": null,
            "grid_column": null,
            "grid_gap": null,
            "grid_row": null,
            "grid_template_areas": null,
            "grid_template_columns": null,
            "grid_template_rows": null,
            "height": null,
            "justify_content": null,
            "justify_items": null,
            "left": null,
            "margin": null,
            "max_height": null,
            "max_width": null,
            "min_height": null,
            "min_width": null,
            "object_fit": null,
            "object_position": null,
            "order": null,
            "overflow": null,
            "overflow_x": null,
            "overflow_y": null,
            "padding": null,
            "right": null,
            "top": null,
            "visibility": null,
            "width": null
          }
        },
        "ef2c37781d4247bbac6b7a05193a0e37": {
          "model_module": "@jupyter-widgets/controls",
          "model_name": "DescriptionStyleModel",
          "model_module_version": "1.5.0",
          "state": {
            "_model_module": "@jupyter-widgets/controls",
            "_model_module_version": "1.5.0",
            "_model_name": "DescriptionStyleModel",
            "_view_count": null,
            "_view_module": "@jupyter-widgets/base",
            "_view_module_version": "1.2.0",
            "_view_name": "StyleView",
            "description_width": ""
          }
        },
        "9d8a71a712944a73b5d6d9e909e60caa": {
          "model_module": "@jupyter-widgets/base",
          "model_name": "LayoutModel",
          "model_module_version": "1.2.0",
          "state": {
            "_model_module": "@jupyter-widgets/base",
            "_model_module_version": "1.2.0",
            "_model_name": "LayoutModel",
            "_view_count": null,
            "_view_module": "@jupyter-widgets/base",
            "_view_module_version": "1.2.0",
            "_view_name": "LayoutView",
            "align_content": null,
            "align_items": null,
            "align_self": null,
            "border": null,
            "bottom": null,
            "display": null,
            "flex": null,
            "flex_flow": null,
            "grid_area": null,
            "grid_auto_columns": null,
            "grid_auto_flow": null,
            "grid_auto_rows": null,
            "grid_column": null,
            "grid_gap": null,
            "grid_row": null,
            "grid_template_areas": null,
            "grid_template_columns": null,
            "grid_template_rows": null,
            "height": null,
            "justify_content": null,
            "justify_items": null,
            "left": null,
            "margin": null,
            "max_height": null,
            "max_width": null,
            "min_height": null,
            "min_width": null,
            "object_fit": null,
            "object_position": null,
            "order": null,
            "overflow": null,
            "overflow_x": null,
            "overflow_y": null,
            "padding": null,
            "right": null,
            "top": null,
            "visibility": null,
            "width": null
          }
        },
        "9626112291e14a839cfc2ae177c8af88": {
          "model_module": "@jupyter-widgets/controls",
          "model_name": "ProgressStyleModel",
          "model_module_version": "1.5.0",
          "state": {
            "_model_module": "@jupyter-widgets/controls",
            "_model_module_version": "1.5.0",
            "_model_name": "ProgressStyleModel",
            "_view_count": null,
            "_view_module": "@jupyter-widgets/base",
            "_view_module_version": "1.2.0",
            "_view_name": "StyleView",
            "bar_color": null,
            "description_width": ""
          }
        },
        "5a99e450a2d341808e84a11fe397d6fc": {
          "model_module": "@jupyter-widgets/base",
          "model_name": "LayoutModel",
          "model_module_version": "1.2.0",
          "state": {
            "_model_module": "@jupyter-widgets/base",
            "_model_module_version": "1.2.0",
            "_model_name": "LayoutModel",
            "_view_count": null,
            "_view_module": "@jupyter-widgets/base",
            "_view_module_version": "1.2.0",
            "_view_name": "LayoutView",
            "align_content": null,
            "align_items": null,
            "align_self": null,
            "border": null,
            "bottom": null,
            "display": null,
            "flex": null,
            "flex_flow": null,
            "grid_area": null,
            "grid_auto_columns": null,
            "grid_auto_flow": null,
            "grid_auto_rows": null,
            "grid_column": null,
            "grid_gap": null,
            "grid_row": null,
            "grid_template_areas": null,
            "grid_template_columns": null,
            "grid_template_rows": null,
            "height": null,
            "justify_content": null,
            "justify_items": null,
            "left": null,
            "margin": null,
            "max_height": null,
            "max_width": null,
            "min_height": null,
            "min_width": null,
            "object_fit": null,
            "object_position": null,
            "order": null,
            "overflow": null,
            "overflow_x": null,
            "overflow_y": null,
            "padding": null,
            "right": null,
            "top": null,
            "visibility": null,
            "width": null
          }
        },
        "d7973c0028874ec4816f4d1b92f6e439": {
          "model_module": "@jupyter-widgets/controls",
          "model_name": "DescriptionStyleModel",
          "model_module_version": "1.5.0",
          "state": {
            "_model_module": "@jupyter-widgets/controls",
            "_model_module_version": "1.5.0",
            "_model_name": "DescriptionStyleModel",
            "_view_count": null,
            "_view_module": "@jupyter-widgets/base",
            "_view_module_version": "1.2.0",
            "_view_name": "StyleView",
            "description_width": ""
          }
        },
        "5225c12cea8d45dd96b6e6ef3fc3e03b": {
          "model_module": "@jupyter-widgets/controls",
          "model_name": "HBoxModel",
          "model_module_version": "1.5.0",
          "state": {
            "_dom_classes": [],
            "_model_module": "@jupyter-widgets/controls",
            "_model_module_version": "1.5.0",
            "_model_name": "HBoxModel",
            "_view_count": null,
            "_view_module": "@jupyter-widgets/controls",
            "_view_module_version": "1.5.0",
            "_view_name": "HBoxView",
            "box_style": "",
            "children": [
              "IPY_MODEL_7ac037caf7c94acab67117b4fdb0eea9",
              "IPY_MODEL_692cdd4ed70547f88b195679cbdab82c",
              "IPY_MODEL_959b7e77b76c4f8f8299dac5251f77a8"
            ],
            "layout": "IPY_MODEL_bad102280091476aa0edc18916804afe"
          }
        },
        "7ac037caf7c94acab67117b4fdb0eea9": {
          "model_module": "@jupyter-widgets/controls",
          "model_name": "HTMLModel",
          "model_module_version": "1.5.0",
          "state": {
            "_dom_classes": [],
            "_model_module": "@jupyter-widgets/controls",
            "_model_module_version": "1.5.0",
            "_model_name": "HTMLModel",
            "_view_count": null,
            "_view_module": "@jupyter-widgets/controls",
            "_view_module_version": "1.5.0",
            "_view_name": "HTMLView",
            "description": "",
            "description_tooltip": null,
            "layout": "IPY_MODEL_bc227fd4b33440dfabc1826918b292b7",
            "placeholder": "​",
            "style": "IPY_MODEL_7e42785fb75747869e11e9652a541c01",
            "value": "100%"
          }
        },
        "692cdd4ed70547f88b195679cbdab82c": {
          "model_module": "@jupyter-widgets/controls",
          "model_name": "FloatProgressModel",
          "model_module_version": "1.5.0",
          "state": {
            "_dom_classes": [],
            "_model_module": "@jupyter-widgets/controls",
            "_model_module_version": "1.5.0",
            "_model_name": "FloatProgressModel",
            "_view_count": null,
            "_view_module": "@jupyter-widgets/controls",
            "_view_module_version": "1.5.0",
            "_view_name": "ProgressView",
            "bar_style": "success",
            "description": "",
            "description_tooltip": null,
            "layout": "IPY_MODEL_081559891877495386307a666b6f8bba",
            "max": 937,
            "min": 0,
            "orientation": "horizontal",
            "style": "IPY_MODEL_1ec5a7f9276b47278e7a37ed6f629677",
            "value": 937
          }
        },
        "959b7e77b76c4f8f8299dac5251f77a8": {
          "model_module": "@jupyter-widgets/controls",
          "model_name": "HTMLModel",
          "model_module_version": "1.5.0",
          "state": {
            "_dom_classes": [],
            "_model_module": "@jupyter-widgets/controls",
            "_model_module_version": "1.5.0",
            "_model_name": "HTMLModel",
            "_view_count": null,
            "_view_module": "@jupyter-widgets/controls",
            "_view_module_version": "1.5.0",
            "_view_name": "HTMLView",
            "description": "",
            "description_tooltip": null,
            "layout": "IPY_MODEL_7df305ffbb0d433a86a5e5b208ce6cc9",
            "placeholder": "​",
            "style": "IPY_MODEL_4a19f0571cbd4fafaabd1c3eb4d7cdd7",
            "value": " 937/937 [03:43&lt;00:00,  8.60it/s]"
          }
        },
        "bad102280091476aa0edc18916804afe": {
          "model_module": "@jupyter-widgets/base",
          "model_name": "LayoutModel",
          "model_module_version": "1.2.0",
          "state": {
            "_model_module": "@jupyter-widgets/base",
            "_model_module_version": "1.2.0",
            "_model_name": "LayoutModel",
            "_view_count": null,
            "_view_module": "@jupyter-widgets/base",
            "_view_module_version": "1.2.0",
            "_view_name": "LayoutView",
            "align_content": null,
            "align_items": null,
            "align_self": null,
            "border": null,
            "bottom": null,
            "display": null,
            "flex": null,
            "flex_flow": null,
            "grid_area": null,
            "grid_auto_columns": null,
            "grid_auto_flow": null,
            "grid_auto_rows": null,
            "grid_column": null,
            "grid_gap": null,
            "grid_row": null,
            "grid_template_areas": null,
            "grid_template_columns": null,
            "grid_template_rows": null,
            "height": null,
            "justify_content": null,
            "justify_items": null,
            "left": null,
            "margin": null,
            "max_height": null,
            "max_width": null,
            "min_height": null,
            "min_width": null,
            "object_fit": null,
            "object_position": null,
            "order": null,
            "overflow": null,
            "overflow_x": null,
            "overflow_y": null,
            "padding": null,
            "right": null,
            "top": null,
            "visibility": null,
            "width": null
          }
        },
        "bc227fd4b33440dfabc1826918b292b7": {
          "model_module": "@jupyter-widgets/base",
          "model_name": "LayoutModel",
          "model_module_version": "1.2.0",
          "state": {
            "_model_module": "@jupyter-widgets/base",
            "_model_module_version": "1.2.0",
            "_model_name": "LayoutModel",
            "_view_count": null,
            "_view_module": "@jupyter-widgets/base",
            "_view_module_version": "1.2.0",
            "_view_name": "LayoutView",
            "align_content": null,
            "align_items": null,
            "align_self": null,
            "border": null,
            "bottom": null,
            "display": null,
            "flex": null,
            "flex_flow": null,
            "grid_area": null,
            "grid_auto_columns": null,
            "grid_auto_flow": null,
            "grid_auto_rows": null,
            "grid_column": null,
            "grid_gap": null,
            "grid_row": null,
            "grid_template_areas": null,
            "grid_template_columns": null,
            "grid_template_rows": null,
            "height": null,
            "justify_content": null,
            "justify_items": null,
            "left": null,
            "margin": null,
            "max_height": null,
            "max_width": null,
            "min_height": null,
            "min_width": null,
            "object_fit": null,
            "object_position": null,
            "order": null,
            "overflow": null,
            "overflow_x": null,
            "overflow_y": null,
            "padding": null,
            "right": null,
            "top": null,
            "visibility": null,
            "width": null
          }
        },
        "7e42785fb75747869e11e9652a541c01": {
          "model_module": "@jupyter-widgets/controls",
          "model_name": "DescriptionStyleModel",
          "model_module_version": "1.5.0",
          "state": {
            "_model_module": "@jupyter-widgets/controls",
            "_model_module_version": "1.5.0",
            "_model_name": "DescriptionStyleModel",
            "_view_count": null,
            "_view_module": "@jupyter-widgets/base",
            "_view_module_version": "1.2.0",
            "_view_name": "StyleView",
            "description_width": ""
          }
        },
        "081559891877495386307a666b6f8bba": {
          "model_module": "@jupyter-widgets/base",
          "model_name": "LayoutModel",
          "model_module_version": "1.2.0",
          "state": {
            "_model_module": "@jupyter-widgets/base",
            "_model_module_version": "1.2.0",
            "_model_name": "LayoutModel",
            "_view_count": null,
            "_view_module": "@jupyter-widgets/base",
            "_view_module_version": "1.2.0",
            "_view_name": "LayoutView",
            "align_content": null,
            "align_items": null,
            "align_self": null,
            "border": null,
            "bottom": null,
            "display": null,
            "flex": null,
            "flex_flow": null,
            "grid_area": null,
            "grid_auto_columns": null,
            "grid_auto_flow": null,
            "grid_auto_rows": null,
            "grid_column": null,
            "grid_gap": null,
            "grid_row": null,
            "grid_template_areas": null,
            "grid_template_columns": null,
            "grid_template_rows": null,
            "height": null,
            "justify_content": null,
            "justify_items": null,
            "left": null,
            "margin": null,
            "max_height": null,
            "max_width": null,
            "min_height": null,
            "min_width": null,
            "object_fit": null,
            "object_position": null,
            "order": null,
            "overflow": null,
            "overflow_x": null,
            "overflow_y": null,
            "padding": null,
            "right": null,
            "top": null,
            "visibility": null,
            "width": null
          }
        },
        "1ec5a7f9276b47278e7a37ed6f629677": {
          "model_module": "@jupyter-widgets/controls",
          "model_name": "ProgressStyleModel",
          "model_module_version": "1.5.0",
          "state": {
            "_model_module": "@jupyter-widgets/controls",
            "_model_module_version": "1.5.0",
            "_model_name": "ProgressStyleModel",
            "_view_count": null,
            "_view_module": "@jupyter-widgets/base",
            "_view_module_version": "1.2.0",
            "_view_name": "StyleView",
            "bar_color": null,
            "description_width": ""
          }
        },
        "7df305ffbb0d433a86a5e5b208ce6cc9": {
          "model_module": "@jupyter-widgets/base",
          "model_name": "LayoutModel",
          "model_module_version": "1.2.0",
          "state": {
            "_model_module": "@jupyter-widgets/base",
            "_model_module_version": "1.2.0",
            "_model_name": "LayoutModel",
            "_view_count": null,
            "_view_module": "@jupyter-widgets/base",
            "_view_module_version": "1.2.0",
            "_view_name": "LayoutView",
            "align_content": null,
            "align_items": null,
            "align_self": null,
            "border": null,
            "bottom": null,
            "display": null,
            "flex": null,
            "flex_flow": null,
            "grid_area": null,
            "grid_auto_columns": null,
            "grid_auto_flow": null,
            "grid_auto_rows": null,
            "grid_column": null,
            "grid_gap": null,
            "grid_row": null,
            "grid_template_areas": null,
            "grid_template_columns": null,
            "grid_template_rows": null,
            "height": null,
            "justify_content": null,
            "justify_items": null,
            "left": null,
            "margin": null,
            "max_height": null,
            "max_width": null,
            "min_height": null,
            "min_width": null,
            "object_fit": null,
            "object_position": null,
            "order": null,
            "overflow": null,
            "overflow_x": null,
            "overflow_y": null,
            "padding": null,
            "right": null,
            "top": null,
            "visibility": null,
            "width": null
          }
        },
        "4a19f0571cbd4fafaabd1c3eb4d7cdd7": {
          "model_module": "@jupyter-widgets/controls",
          "model_name": "DescriptionStyleModel",
          "model_module_version": "1.5.0",
          "state": {
            "_model_module": "@jupyter-widgets/controls",
            "_model_module_version": "1.5.0",
            "_model_name": "DescriptionStyleModel",
            "_view_count": null,
            "_view_module": "@jupyter-widgets/base",
            "_view_module_version": "1.2.0",
            "_view_name": "StyleView",
            "description_width": ""
          }
        },
        "5a41efe0217540c8a7a593a3d93a3d97": {
          "model_module": "@jupyter-widgets/controls",
          "model_name": "HBoxModel",
          "model_module_version": "1.5.0",
          "state": {
            "_dom_classes": [],
            "_model_module": "@jupyter-widgets/controls",
            "_model_module_version": "1.5.0",
            "_model_name": "HBoxModel",
            "_view_count": null,
            "_view_module": "@jupyter-widgets/controls",
            "_view_module_version": "1.5.0",
            "_view_name": "HBoxView",
            "box_style": "",
            "children": [
              "IPY_MODEL_50388e8f17b1434d87b99be2830045a5",
              "IPY_MODEL_321f8e7a5dd544048c5a08caeac9b23a",
              "IPY_MODEL_0943c528b4134a79a371bafa7ce2c7eb"
            ],
            "layout": "IPY_MODEL_4265896dcf4948d89c005e7bd7aef57d"
          }
        },
        "50388e8f17b1434d87b99be2830045a5": {
          "model_module": "@jupyter-widgets/controls",
          "model_name": "HTMLModel",
          "model_module_version": "1.5.0",
          "state": {
            "_dom_classes": [],
            "_model_module": "@jupyter-widgets/controls",
            "_model_module_version": "1.5.0",
            "_model_name": "HTMLModel",
            "_view_count": null,
            "_view_module": "@jupyter-widgets/controls",
            "_view_module_version": "1.5.0",
            "_view_name": "HTMLView",
            "description": "",
            "description_tooltip": null,
            "layout": "IPY_MODEL_17901e734f7941418a5b304324e88f89",
            "placeholder": "​",
            "style": "IPY_MODEL_8845174380284406a0cfa0729e4dcd79",
            "value": "100%"
          }
        },
        "321f8e7a5dd544048c5a08caeac9b23a": {
          "model_module": "@jupyter-widgets/controls",
          "model_name": "FloatProgressModel",
          "model_module_version": "1.5.0",
          "state": {
            "_dom_classes": [],
            "_model_module": "@jupyter-widgets/controls",
            "_model_module_version": "1.5.0",
            "_model_name": "FloatProgressModel",
            "_view_count": null,
            "_view_module": "@jupyter-widgets/controls",
            "_view_module_version": "1.5.0",
            "_view_name": "ProgressView",
            "bar_style": "success",
            "description": "",
            "description_tooltip": null,
            "layout": "IPY_MODEL_62d0620b28784dd6b9475970693c0e34",
            "max": 937,
            "min": 0,
            "orientation": "horizontal",
            "style": "IPY_MODEL_881d64af0f9848a0b47fae96d88ccb4f",
            "value": 937
          }
        },
        "0943c528b4134a79a371bafa7ce2c7eb": {
          "model_module": "@jupyter-widgets/controls",
          "model_name": "HTMLModel",
          "model_module_version": "1.5.0",
          "state": {
            "_dom_classes": [],
            "_model_module": "@jupyter-widgets/controls",
            "_model_module_version": "1.5.0",
            "_model_name": "HTMLModel",
            "_view_count": null,
            "_view_module": "@jupyter-widgets/controls",
            "_view_module_version": "1.5.0",
            "_view_name": "HTMLView",
            "description": "",
            "description_tooltip": null,
            "layout": "IPY_MODEL_a41b216683584dabb5fdf9448ba445d4",
            "placeholder": "​",
            "style": "IPY_MODEL_3f057b677c2149519c53e64e8b2c2dc0",
            "value": " 937/937 [03:45&lt;00:00,  8.61it/s]"
          }
        },
        "4265896dcf4948d89c005e7bd7aef57d": {
          "model_module": "@jupyter-widgets/base",
          "model_name": "LayoutModel",
          "model_module_version": "1.2.0",
          "state": {
            "_model_module": "@jupyter-widgets/base",
            "_model_module_version": "1.2.0",
            "_model_name": "LayoutModel",
            "_view_count": null,
            "_view_module": "@jupyter-widgets/base",
            "_view_module_version": "1.2.0",
            "_view_name": "LayoutView",
            "align_content": null,
            "align_items": null,
            "align_self": null,
            "border": null,
            "bottom": null,
            "display": null,
            "flex": null,
            "flex_flow": null,
            "grid_area": null,
            "grid_auto_columns": null,
            "grid_auto_flow": null,
            "grid_auto_rows": null,
            "grid_column": null,
            "grid_gap": null,
            "grid_row": null,
            "grid_template_areas": null,
            "grid_template_columns": null,
            "grid_template_rows": null,
            "height": null,
            "justify_content": null,
            "justify_items": null,
            "left": null,
            "margin": null,
            "max_height": null,
            "max_width": null,
            "min_height": null,
            "min_width": null,
            "object_fit": null,
            "object_position": null,
            "order": null,
            "overflow": null,
            "overflow_x": null,
            "overflow_y": null,
            "padding": null,
            "right": null,
            "top": null,
            "visibility": null,
            "width": null
          }
        },
        "17901e734f7941418a5b304324e88f89": {
          "model_module": "@jupyter-widgets/base",
          "model_name": "LayoutModel",
          "model_module_version": "1.2.0",
          "state": {
            "_model_module": "@jupyter-widgets/base",
            "_model_module_version": "1.2.0",
            "_model_name": "LayoutModel",
            "_view_count": null,
            "_view_module": "@jupyter-widgets/base",
            "_view_module_version": "1.2.0",
            "_view_name": "LayoutView",
            "align_content": null,
            "align_items": null,
            "align_self": null,
            "border": null,
            "bottom": null,
            "display": null,
            "flex": null,
            "flex_flow": null,
            "grid_area": null,
            "grid_auto_columns": null,
            "grid_auto_flow": null,
            "grid_auto_rows": null,
            "grid_column": null,
            "grid_gap": null,
            "grid_row": null,
            "grid_template_areas": null,
            "grid_template_columns": null,
            "grid_template_rows": null,
            "height": null,
            "justify_content": null,
            "justify_items": null,
            "left": null,
            "margin": null,
            "max_height": null,
            "max_width": null,
            "min_height": null,
            "min_width": null,
            "object_fit": null,
            "object_position": null,
            "order": null,
            "overflow": null,
            "overflow_x": null,
            "overflow_y": null,
            "padding": null,
            "right": null,
            "top": null,
            "visibility": null,
            "width": null
          }
        },
        "8845174380284406a0cfa0729e4dcd79": {
          "model_module": "@jupyter-widgets/controls",
          "model_name": "DescriptionStyleModel",
          "model_module_version": "1.5.0",
          "state": {
            "_model_module": "@jupyter-widgets/controls",
            "_model_module_version": "1.5.0",
            "_model_name": "DescriptionStyleModel",
            "_view_count": null,
            "_view_module": "@jupyter-widgets/base",
            "_view_module_version": "1.2.0",
            "_view_name": "StyleView",
            "description_width": ""
          }
        },
        "62d0620b28784dd6b9475970693c0e34": {
          "model_module": "@jupyter-widgets/base",
          "model_name": "LayoutModel",
          "model_module_version": "1.2.0",
          "state": {
            "_model_module": "@jupyter-widgets/base",
            "_model_module_version": "1.2.0",
            "_model_name": "LayoutModel",
            "_view_count": null,
            "_view_module": "@jupyter-widgets/base",
            "_view_module_version": "1.2.0",
            "_view_name": "LayoutView",
            "align_content": null,
            "align_items": null,
            "align_self": null,
            "border": null,
            "bottom": null,
            "display": null,
            "flex": null,
            "flex_flow": null,
            "grid_area": null,
            "grid_auto_columns": null,
            "grid_auto_flow": null,
            "grid_auto_rows": null,
            "grid_column": null,
            "grid_gap": null,
            "grid_row": null,
            "grid_template_areas": null,
            "grid_template_columns": null,
            "grid_template_rows": null,
            "height": null,
            "justify_content": null,
            "justify_items": null,
            "left": null,
            "margin": null,
            "max_height": null,
            "max_width": null,
            "min_height": null,
            "min_width": null,
            "object_fit": null,
            "object_position": null,
            "order": null,
            "overflow": null,
            "overflow_x": null,
            "overflow_y": null,
            "padding": null,
            "right": null,
            "top": null,
            "visibility": null,
            "width": null
          }
        },
        "881d64af0f9848a0b47fae96d88ccb4f": {
          "model_module": "@jupyter-widgets/controls",
          "model_name": "ProgressStyleModel",
          "model_module_version": "1.5.0",
          "state": {
            "_model_module": "@jupyter-widgets/controls",
            "_model_module_version": "1.5.0",
            "_model_name": "ProgressStyleModel",
            "_view_count": null,
            "_view_module": "@jupyter-widgets/base",
            "_view_module_version": "1.2.0",
            "_view_name": "StyleView",
            "bar_color": null,
            "description_width": ""
          }
        },
        "a41b216683584dabb5fdf9448ba445d4": {
          "model_module": "@jupyter-widgets/base",
          "model_name": "LayoutModel",
          "model_module_version": "1.2.0",
          "state": {
            "_model_module": "@jupyter-widgets/base",
            "_model_module_version": "1.2.0",
            "_model_name": "LayoutModel",
            "_view_count": null,
            "_view_module": "@jupyter-widgets/base",
            "_view_module_version": "1.2.0",
            "_view_name": "LayoutView",
            "align_content": null,
            "align_items": null,
            "align_self": null,
            "border": null,
            "bottom": null,
            "display": null,
            "flex": null,
            "flex_flow": null,
            "grid_area": null,
            "grid_auto_columns": null,
            "grid_auto_flow": null,
            "grid_auto_rows": null,
            "grid_column": null,
            "grid_gap": null,
            "grid_row": null,
            "grid_template_areas": null,
            "grid_template_columns": null,
            "grid_template_rows": null,
            "height": null,
            "justify_content": null,
            "justify_items": null,
            "left": null,
            "margin": null,
            "max_height": null,
            "max_width": null,
            "min_height": null,
            "min_width": null,
            "object_fit": null,
            "object_position": null,
            "order": null,
            "overflow": null,
            "overflow_x": null,
            "overflow_y": null,
            "padding": null,
            "right": null,
            "top": null,
            "visibility": null,
            "width": null
          }
        },
        "3f057b677c2149519c53e64e8b2c2dc0": {
          "model_module": "@jupyter-widgets/controls",
          "model_name": "DescriptionStyleModel",
          "model_module_version": "1.5.0",
          "state": {
            "_model_module": "@jupyter-widgets/controls",
            "_model_module_version": "1.5.0",
            "_model_name": "DescriptionStyleModel",
            "_view_count": null,
            "_view_module": "@jupyter-widgets/base",
            "_view_module_version": "1.2.0",
            "_view_name": "StyleView",
            "description_width": ""
          }
        },
        "49efac17ccd543ecab48acec157998db": {
          "model_module": "@jupyter-widgets/controls",
          "model_name": "HBoxModel",
          "model_module_version": "1.5.0",
          "state": {
            "_dom_classes": [],
            "_model_module": "@jupyter-widgets/controls",
            "_model_module_version": "1.5.0",
            "_model_name": "HBoxModel",
            "_view_count": null,
            "_view_module": "@jupyter-widgets/controls",
            "_view_module_version": "1.5.0",
            "_view_name": "HBoxView",
            "box_style": "",
            "children": [
              "IPY_MODEL_389c16dd758c46dda9956248244c4187",
              "IPY_MODEL_2a45ab6cbd90490cbeb747fa9413bb48",
              "IPY_MODEL_e620af155b584337b287ddebd13a7887"
            ],
            "layout": "IPY_MODEL_c0d6525032fd4ec38232774c6bc79caa"
          }
        },
        "389c16dd758c46dda9956248244c4187": {
          "model_module": "@jupyter-widgets/controls",
          "model_name": "HTMLModel",
          "model_module_version": "1.5.0",
          "state": {
            "_dom_classes": [],
            "_model_module": "@jupyter-widgets/controls",
            "_model_module_version": "1.5.0",
            "_model_name": "HTMLModel",
            "_view_count": null,
            "_view_module": "@jupyter-widgets/controls",
            "_view_module_version": "1.5.0",
            "_view_name": "HTMLView",
            "description": "",
            "description_tooltip": null,
            "layout": "IPY_MODEL_af90021f7a004c44bd50977ea26fa5d9",
            "placeholder": "​",
            "style": "IPY_MODEL_bfe74398a0054de484c1ed9c3959965c",
            "value": "100%"
          }
        },
        "2a45ab6cbd90490cbeb747fa9413bb48": {
          "model_module": "@jupyter-widgets/controls",
          "model_name": "FloatProgressModel",
          "model_module_version": "1.5.0",
          "state": {
            "_dom_classes": [],
            "_model_module": "@jupyter-widgets/controls",
            "_model_module_version": "1.5.0",
            "_model_name": "FloatProgressModel",
            "_view_count": null,
            "_view_module": "@jupyter-widgets/controls",
            "_view_module_version": "1.5.0",
            "_view_name": "ProgressView",
            "bar_style": "success",
            "description": "",
            "description_tooltip": null,
            "layout": "IPY_MODEL_8154917f8b6e47c0a7803d4e3a73e656",
            "max": 937,
            "min": 0,
            "orientation": "horizontal",
            "style": "IPY_MODEL_843528d5589d4f06be1f16d8edd1bef7",
            "value": 937
          }
        },
        "e620af155b584337b287ddebd13a7887": {
          "model_module": "@jupyter-widgets/controls",
          "model_name": "HTMLModel",
          "model_module_version": "1.5.0",
          "state": {
            "_dom_classes": [],
            "_model_module": "@jupyter-widgets/controls",
            "_model_module_version": "1.5.0",
            "_model_name": "HTMLModel",
            "_view_count": null,
            "_view_module": "@jupyter-widgets/controls",
            "_view_module_version": "1.5.0",
            "_view_name": "HTMLView",
            "description": "",
            "description_tooltip": null,
            "layout": "IPY_MODEL_19012fff915b4ca2935705cb7e69c750",
            "placeholder": "​",
            "style": "IPY_MODEL_a60b641a8d4b4ded8eb8f03c8d7a8955",
            "value": " 937/937 [03:43&lt;00:00,  8.83it/s]"
          }
        },
        "c0d6525032fd4ec38232774c6bc79caa": {
          "model_module": "@jupyter-widgets/base",
          "model_name": "LayoutModel",
          "model_module_version": "1.2.0",
          "state": {
            "_model_module": "@jupyter-widgets/base",
            "_model_module_version": "1.2.0",
            "_model_name": "LayoutModel",
            "_view_count": null,
            "_view_module": "@jupyter-widgets/base",
            "_view_module_version": "1.2.0",
            "_view_name": "LayoutView",
            "align_content": null,
            "align_items": null,
            "align_self": null,
            "border": null,
            "bottom": null,
            "display": null,
            "flex": null,
            "flex_flow": null,
            "grid_area": null,
            "grid_auto_columns": null,
            "grid_auto_flow": null,
            "grid_auto_rows": null,
            "grid_column": null,
            "grid_gap": null,
            "grid_row": null,
            "grid_template_areas": null,
            "grid_template_columns": null,
            "grid_template_rows": null,
            "height": null,
            "justify_content": null,
            "justify_items": null,
            "left": null,
            "margin": null,
            "max_height": null,
            "max_width": null,
            "min_height": null,
            "min_width": null,
            "object_fit": null,
            "object_position": null,
            "order": null,
            "overflow": null,
            "overflow_x": null,
            "overflow_y": null,
            "padding": null,
            "right": null,
            "top": null,
            "visibility": null,
            "width": null
          }
        },
        "af90021f7a004c44bd50977ea26fa5d9": {
          "model_module": "@jupyter-widgets/base",
          "model_name": "LayoutModel",
          "model_module_version": "1.2.0",
          "state": {
            "_model_module": "@jupyter-widgets/base",
            "_model_module_version": "1.2.0",
            "_model_name": "LayoutModel",
            "_view_count": null,
            "_view_module": "@jupyter-widgets/base",
            "_view_module_version": "1.2.0",
            "_view_name": "LayoutView",
            "align_content": null,
            "align_items": null,
            "align_self": null,
            "border": null,
            "bottom": null,
            "display": null,
            "flex": null,
            "flex_flow": null,
            "grid_area": null,
            "grid_auto_columns": null,
            "grid_auto_flow": null,
            "grid_auto_rows": null,
            "grid_column": null,
            "grid_gap": null,
            "grid_row": null,
            "grid_template_areas": null,
            "grid_template_columns": null,
            "grid_template_rows": null,
            "height": null,
            "justify_content": null,
            "justify_items": null,
            "left": null,
            "margin": null,
            "max_height": null,
            "max_width": null,
            "min_height": null,
            "min_width": null,
            "object_fit": null,
            "object_position": null,
            "order": null,
            "overflow": null,
            "overflow_x": null,
            "overflow_y": null,
            "padding": null,
            "right": null,
            "top": null,
            "visibility": null,
            "width": null
          }
        },
        "bfe74398a0054de484c1ed9c3959965c": {
          "model_module": "@jupyter-widgets/controls",
          "model_name": "DescriptionStyleModel",
          "model_module_version": "1.5.0",
          "state": {
            "_model_module": "@jupyter-widgets/controls",
            "_model_module_version": "1.5.0",
            "_model_name": "DescriptionStyleModel",
            "_view_count": null,
            "_view_module": "@jupyter-widgets/base",
            "_view_module_version": "1.2.0",
            "_view_name": "StyleView",
            "description_width": ""
          }
        },
        "8154917f8b6e47c0a7803d4e3a73e656": {
          "model_module": "@jupyter-widgets/base",
          "model_name": "LayoutModel",
          "model_module_version": "1.2.0",
          "state": {
            "_model_module": "@jupyter-widgets/base",
            "_model_module_version": "1.2.0",
            "_model_name": "LayoutModel",
            "_view_count": null,
            "_view_module": "@jupyter-widgets/base",
            "_view_module_version": "1.2.0",
            "_view_name": "LayoutView",
            "align_content": null,
            "align_items": null,
            "align_self": null,
            "border": null,
            "bottom": null,
            "display": null,
            "flex": null,
            "flex_flow": null,
            "grid_area": null,
            "grid_auto_columns": null,
            "grid_auto_flow": null,
            "grid_auto_rows": null,
            "grid_column": null,
            "grid_gap": null,
            "grid_row": null,
            "grid_template_areas": null,
            "grid_template_columns": null,
            "grid_template_rows": null,
            "height": null,
            "justify_content": null,
            "justify_items": null,
            "left": null,
            "margin": null,
            "max_height": null,
            "max_width": null,
            "min_height": null,
            "min_width": null,
            "object_fit": null,
            "object_position": null,
            "order": null,
            "overflow": null,
            "overflow_x": null,
            "overflow_y": null,
            "padding": null,
            "right": null,
            "top": null,
            "visibility": null,
            "width": null
          }
        },
        "843528d5589d4f06be1f16d8edd1bef7": {
          "model_module": "@jupyter-widgets/controls",
          "model_name": "ProgressStyleModel",
          "model_module_version": "1.5.0",
          "state": {
            "_model_module": "@jupyter-widgets/controls",
            "_model_module_version": "1.5.0",
            "_model_name": "ProgressStyleModel",
            "_view_count": null,
            "_view_module": "@jupyter-widgets/base",
            "_view_module_version": "1.2.0",
            "_view_name": "StyleView",
            "bar_color": null,
            "description_width": ""
          }
        },
        "19012fff915b4ca2935705cb7e69c750": {
          "model_module": "@jupyter-widgets/base",
          "model_name": "LayoutModel",
          "model_module_version": "1.2.0",
          "state": {
            "_model_module": "@jupyter-widgets/base",
            "_model_module_version": "1.2.0",
            "_model_name": "LayoutModel",
            "_view_count": null,
            "_view_module": "@jupyter-widgets/base",
            "_view_module_version": "1.2.0",
            "_view_name": "LayoutView",
            "align_content": null,
            "align_items": null,
            "align_self": null,
            "border": null,
            "bottom": null,
            "display": null,
            "flex": null,
            "flex_flow": null,
            "grid_area": null,
            "grid_auto_columns": null,
            "grid_auto_flow": null,
            "grid_auto_rows": null,
            "grid_column": null,
            "grid_gap": null,
            "grid_row": null,
            "grid_template_areas": null,
            "grid_template_columns": null,
            "grid_template_rows": null,
            "height": null,
            "justify_content": null,
            "justify_items": null,
            "left": null,
            "margin": null,
            "max_height": null,
            "max_width": null,
            "min_height": null,
            "min_width": null,
            "object_fit": null,
            "object_position": null,
            "order": null,
            "overflow": null,
            "overflow_x": null,
            "overflow_y": null,
            "padding": null,
            "right": null,
            "top": null,
            "visibility": null,
            "width": null
          }
        },
        "a60b641a8d4b4ded8eb8f03c8d7a8955": {
          "model_module": "@jupyter-widgets/controls",
          "model_name": "DescriptionStyleModel",
          "model_module_version": "1.5.0",
          "state": {
            "_model_module": "@jupyter-widgets/controls",
            "_model_module_version": "1.5.0",
            "_model_name": "DescriptionStyleModel",
            "_view_count": null,
            "_view_module": "@jupyter-widgets/base",
            "_view_module_version": "1.2.0",
            "_view_name": "StyleView",
            "description_width": ""
          }
        },
        "6fab820f6cd54f9cbfdc36c558797def": {
          "model_module": "@jupyter-widgets/controls",
          "model_name": "HBoxModel",
          "model_module_version": "1.5.0",
          "state": {
            "_dom_classes": [],
            "_model_module": "@jupyter-widgets/controls",
            "_model_module_version": "1.5.0",
            "_model_name": "HBoxModel",
            "_view_count": null,
            "_view_module": "@jupyter-widgets/controls",
            "_view_module_version": "1.5.0",
            "_view_name": "HBoxView",
            "box_style": "",
            "children": [
              "IPY_MODEL_2df888d28f484397a275e3458538e693",
              "IPY_MODEL_3f866bed78164531acfffd2f4963ba2f",
              "IPY_MODEL_8f7174d7687b4bfc8b6ed904807004cd"
            ],
            "layout": "IPY_MODEL_dd917cbe0633420d9615e3d425d02918"
          }
        },
        "2df888d28f484397a275e3458538e693": {
          "model_module": "@jupyter-widgets/controls",
          "model_name": "HTMLModel",
          "model_module_version": "1.5.0",
          "state": {
            "_dom_classes": [],
            "_model_module": "@jupyter-widgets/controls",
            "_model_module_version": "1.5.0",
            "_model_name": "HTMLModel",
            "_view_count": null,
            "_view_module": "@jupyter-widgets/controls",
            "_view_module_version": "1.5.0",
            "_view_name": "HTMLView",
            "description": "",
            "description_tooltip": null,
            "layout": "IPY_MODEL_228f5d6f8e7f4c18885c2db1132597c4",
            "placeholder": "​",
            "style": "IPY_MODEL_a54533efd9114f9da35d566ff0331449",
            "value": "100%"
          }
        },
        "3f866bed78164531acfffd2f4963ba2f": {
          "model_module": "@jupyter-widgets/controls",
          "model_name": "FloatProgressModel",
          "model_module_version": "1.5.0",
          "state": {
            "_dom_classes": [],
            "_model_module": "@jupyter-widgets/controls",
            "_model_module_version": "1.5.0",
            "_model_name": "FloatProgressModel",
            "_view_count": null,
            "_view_module": "@jupyter-widgets/controls",
            "_view_module_version": "1.5.0",
            "_view_name": "ProgressView",
            "bar_style": "success",
            "description": "",
            "description_tooltip": null,
            "layout": "IPY_MODEL_148c8362cd2f4e128a62f82c9cd9a11b",
            "max": 937,
            "min": 0,
            "orientation": "horizontal",
            "style": "IPY_MODEL_09fb2c3abd0442aab643f7219ba367c2",
            "value": 937
          }
        },
        "8f7174d7687b4bfc8b6ed904807004cd": {
          "model_module": "@jupyter-widgets/controls",
          "model_name": "HTMLModel",
          "model_module_version": "1.5.0",
          "state": {
            "_dom_classes": [],
            "_model_module": "@jupyter-widgets/controls",
            "_model_module_version": "1.5.0",
            "_model_name": "HTMLModel",
            "_view_count": null,
            "_view_module": "@jupyter-widgets/controls",
            "_view_module_version": "1.5.0",
            "_view_name": "HTMLView",
            "description": "",
            "description_tooltip": null,
            "layout": "IPY_MODEL_838546e4ae43480b9863c99660ae3782",
            "placeholder": "​",
            "style": "IPY_MODEL_5a46df9bf5ab43f78323c6aabc5cc45e",
            "value": " 937/937 [03:48&lt;00:00,  8.24it/s]"
          }
        },
        "dd917cbe0633420d9615e3d425d02918": {
          "model_module": "@jupyter-widgets/base",
          "model_name": "LayoutModel",
          "model_module_version": "1.2.0",
          "state": {
            "_model_module": "@jupyter-widgets/base",
            "_model_module_version": "1.2.0",
            "_model_name": "LayoutModel",
            "_view_count": null,
            "_view_module": "@jupyter-widgets/base",
            "_view_module_version": "1.2.0",
            "_view_name": "LayoutView",
            "align_content": null,
            "align_items": null,
            "align_self": null,
            "border": null,
            "bottom": null,
            "display": null,
            "flex": null,
            "flex_flow": null,
            "grid_area": null,
            "grid_auto_columns": null,
            "grid_auto_flow": null,
            "grid_auto_rows": null,
            "grid_column": null,
            "grid_gap": null,
            "grid_row": null,
            "grid_template_areas": null,
            "grid_template_columns": null,
            "grid_template_rows": null,
            "height": null,
            "justify_content": null,
            "justify_items": null,
            "left": null,
            "margin": null,
            "max_height": null,
            "max_width": null,
            "min_height": null,
            "min_width": null,
            "object_fit": null,
            "object_position": null,
            "order": null,
            "overflow": null,
            "overflow_x": null,
            "overflow_y": null,
            "padding": null,
            "right": null,
            "top": null,
            "visibility": null,
            "width": null
          }
        },
        "228f5d6f8e7f4c18885c2db1132597c4": {
          "model_module": "@jupyter-widgets/base",
          "model_name": "LayoutModel",
          "model_module_version": "1.2.0",
          "state": {
            "_model_module": "@jupyter-widgets/base",
            "_model_module_version": "1.2.0",
            "_model_name": "LayoutModel",
            "_view_count": null,
            "_view_module": "@jupyter-widgets/base",
            "_view_module_version": "1.2.0",
            "_view_name": "LayoutView",
            "align_content": null,
            "align_items": null,
            "align_self": null,
            "border": null,
            "bottom": null,
            "display": null,
            "flex": null,
            "flex_flow": null,
            "grid_area": null,
            "grid_auto_columns": null,
            "grid_auto_flow": null,
            "grid_auto_rows": null,
            "grid_column": null,
            "grid_gap": null,
            "grid_row": null,
            "grid_template_areas": null,
            "grid_template_columns": null,
            "grid_template_rows": null,
            "height": null,
            "justify_content": null,
            "justify_items": null,
            "left": null,
            "margin": null,
            "max_height": null,
            "max_width": null,
            "min_height": null,
            "min_width": null,
            "object_fit": null,
            "object_position": null,
            "order": null,
            "overflow": null,
            "overflow_x": null,
            "overflow_y": null,
            "padding": null,
            "right": null,
            "top": null,
            "visibility": null,
            "width": null
          }
        },
        "a54533efd9114f9da35d566ff0331449": {
          "model_module": "@jupyter-widgets/controls",
          "model_name": "DescriptionStyleModel",
          "model_module_version": "1.5.0",
          "state": {
            "_model_module": "@jupyter-widgets/controls",
            "_model_module_version": "1.5.0",
            "_model_name": "DescriptionStyleModel",
            "_view_count": null,
            "_view_module": "@jupyter-widgets/base",
            "_view_module_version": "1.2.0",
            "_view_name": "StyleView",
            "description_width": ""
          }
        },
        "148c8362cd2f4e128a62f82c9cd9a11b": {
          "model_module": "@jupyter-widgets/base",
          "model_name": "LayoutModel",
          "model_module_version": "1.2.0",
          "state": {
            "_model_module": "@jupyter-widgets/base",
            "_model_module_version": "1.2.0",
            "_model_name": "LayoutModel",
            "_view_count": null,
            "_view_module": "@jupyter-widgets/base",
            "_view_module_version": "1.2.0",
            "_view_name": "LayoutView",
            "align_content": null,
            "align_items": null,
            "align_self": null,
            "border": null,
            "bottom": null,
            "display": null,
            "flex": null,
            "flex_flow": null,
            "grid_area": null,
            "grid_auto_columns": null,
            "grid_auto_flow": null,
            "grid_auto_rows": null,
            "grid_column": null,
            "grid_gap": null,
            "grid_row": null,
            "grid_template_areas": null,
            "grid_template_columns": null,
            "grid_template_rows": null,
            "height": null,
            "justify_content": null,
            "justify_items": null,
            "left": null,
            "margin": null,
            "max_height": null,
            "max_width": null,
            "min_height": null,
            "min_width": null,
            "object_fit": null,
            "object_position": null,
            "order": null,
            "overflow": null,
            "overflow_x": null,
            "overflow_y": null,
            "padding": null,
            "right": null,
            "top": null,
            "visibility": null,
            "width": null
          }
        },
        "09fb2c3abd0442aab643f7219ba367c2": {
          "model_module": "@jupyter-widgets/controls",
          "model_name": "ProgressStyleModel",
          "model_module_version": "1.5.0",
          "state": {
            "_model_module": "@jupyter-widgets/controls",
            "_model_module_version": "1.5.0",
            "_model_name": "ProgressStyleModel",
            "_view_count": null,
            "_view_module": "@jupyter-widgets/base",
            "_view_module_version": "1.2.0",
            "_view_name": "StyleView",
            "bar_color": null,
            "description_width": ""
          }
        },
        "838546e4ae43480b9863c99660ae3782": {
          "model_module": "@jupyter-widgets/base",
          "model_name": "LayoutModel",
          "model_module_version": "1.2.0",
          "state": {
            "_model_module": "@jupyter-widgets/base",
            "_model_module_version": "1.2.0",
            "_model_name": "LayoutModel",
            "_view_count": null,
            "_view_module": "@jupyter-widgets/base",
            "_view_module_version": "1.2.0",
            "_view_name": "LayoutView",
            "align_content": null,
            "align_items": null,
            "align_self": null,
            "border": null,
            "bottom": null,
            "display": null,
            "flex": null,
            "flex_flow": null,
            "grid_area": null,
            "grid_auto_columns": null,
            "grid_auto_flow": null,
            "grid_auto_rows": null,
            "grid_column": null,
            "grid_gap": null,
            "grid_row": null,
            "grid_template_areas": null,
            "grid_template_columns": null,
            "grid_template_rows": null,
            "height": null,
            "justify_content": null,
            "justify_items": null,
            "left": null,
            "margin": null,
            "max_height": null,
            "max_width": null,
            "min_height": null,
            "min_width": null,
            "object_fit": null,
            "object_position": null,
            "order": null,
            "overflow": null,
            "overflow_x": null,
            "overflow_y": null,
            "padding": null,
            "right": null,
            "top": null,
            "visibility": null,
            "width": null
          }
        },
        "5a46df9bf5ab43f78323c6aabc5cc45e": {
          "model_module": "@jupyter-widgets/controls",
          "model_name": "DescriptionStyleModel",
          "model_module_version": "1.5.0",
          "state": {
            "_model_module": "@jupyter-widgets/controls",
            "_model_module_version": "1.5.0",
            "_model_name": "DescriptionStyleModel",
            "_view_count": null,
            "_view_module": "@jupyter-widgets/base",
            "_view_module_version": "1.2.0",
            "_view_name": "StyleView",
            "description_width": ""
          }
        }
      }
    }
  },
  "cells": [
    {
      "cell_type": "markdown",
      "metadata": {
        "id": "view-in-github",
        "colab_type": "text"
      },
      "source": [
        "<a href=\"https://colab.research.google.com/github/akansh12/Deep-Learning-for-imaging-EE5179/blob/main/Assignment_1/PA1_CS22Z003.ipynb\" target=\"_parent\"><img src=\"https://colab.research.google.com/assets/colab-badge.svg\" alt=\"Open In Colab\"/></a>"
      ]
    },
    {
      "cell_type": "markdown",
      "source": [
        "# MNIST Classification using MLP\n"
      ],
      "metadata": {
        "id": "q-Acap1SgWyb"
      }
    },
    {
      "cell_type": "markdown",
      "source": [
        "By \n",
        "- Akansh Maurya (CS22Z003)"
      ],
      "metadata": {
        "id": "2RgCHb3Ui82c"
      }
    },
    {
      "cell_type": "markdown",
      "source": [
        "Tasks to to:\n",
        "- Baseline: IP-h(500)-h(250)-h(100)-OP\n",
        "- Activation functions for hidden layers: Sigmoid and for the Output layer it is softmax\n",
        "- Gradient-Descent\n",
        "- lr = 0.01, batch size = 64, epoch = 15\n",
        "-  Extra marks for experimentations\n",
        "- Glorot Initialization\n",
        "- Plot the loss for 200 iterations\n",
        "- Confustion matrix and classification report\n",
        "1.1\n",
        "- Use Tanh and RELU\n",
        "\n",
        "Task 2:\n",
        "- Use pytorch for the same\n",
        "- Add L2 Regularization to it."
      ],
      "metadata": {
        "id": "bi2x5f2qgSUu"
      }
    },
    {
      "cell_type": "markdown",
      "source": [
        "###Imports"
      ],
      "metadata": {
        "id": "rSZ1i9nPjYDj"
      }
    },
    {
      "cell_type": "code",
      "source": [
        "import tensorflow as tf\n",
        "import torch\n",
        "import keras\n",
        "import torchvision\n",
        "import numpy as np\n",
        "from  matplotlib import pyplot as plt\n",
        "from PIL import Image\n",
        "from sklearn.model_selection import train_test_split\n",
        "from tqdm.auto import tqdm"
      ],
      "metadata": {
        "id": "CNpq2VWIjdBS"
      },
      "execution_count": 61,
      "outputs": []
    },
    {
      "cell_type": "markdown",
      "source": [
        "Downloading the Dataset"
      ],
      "metadata": {
        "id": "MtymctNZjUlb"
      }
    },
    {
      "cell_type": "code",
      "source": [
        "# source: https://keras.io/api/datasets/mnist/\n",
        "tf.keras.datasets.mnist.load_data(path=\"mnist.npz\")\n",
        "(x_train, y_train), (x_test, y_test) = keras.datasets.mnist.load_data()\n",
        "print(x_train.shape)\n",
        "print(y_train.shape)\n",
        "print(x_test.shape)\n",
        "print(y_test.shape)"
      ],
      "metadata": {
        "colab": {
          "base_uri": "https://localhost:8080/"
        },
        "id": "tuSuNiYjgTBx",
        "outputId": "0714fc2b-eb7d-437b-b7f4-1ffe18f4a705"
      },
      "execution_count": 62,
      "outputs": [
        {
          "output_type": "stream",
          "name": "stdout",
          "text": [
            "(60000, 28, 28)\n",
            "(60000,)\n",
            "(10000, 28, 28)\n",
            "(10000,)\n"
          ]
        }
      ]
    },
    {
      "cell_type": "markdown",
      "source": [
        "### Reshaping the dataset"
      ],
      "metadata": {
        "id": "ekNbyGONng-W"
      }
    },
    {
      "cell_type": "code",
      "source": [
        "x_train = np.array(x_train.reshape(x_train.shape[0], 784)).T\n",
        "x_test = np.array(x_test.reshape(x_test.shape[0], 784)).T\n",
        "x_train = (x_train/255.0).astype(np.float32)\n",
        "x_test = (x_test/255.0).astype(np.float32)"
      ],
      "metadata": {
        "id": "Z1Rh7u8GnRBG"
      },
      "execution_count": 63,
      "outputs": []
    },
    {
      "cell_type": "code",
      "source": [
        "print(\"Train Dataset Shape: \", x_train.shape)\n",
        "print(\"Train Target Vector Shape: \", y_train.shape) \n",
        "print(\"Test Dataset Shape:\", x_test.shape)\n",
        "print(\"Test Target Vector Shape\", y_test.shape)"
      ],
      "metadata": {
        "colab": {
          "base_uri": "https://localhost:8080/"
        },
        "id": "Igf2TjDSkyP6",
        "outputId": "45c72969-f3ca-4248-be51-14404c183143"
      },
      "execution_count": 64,
      "outputs": [
        {
          "output_type": "stream",
          "name": "stdout",
          "text": [
            "Train Dataset Shape:  (784, 60000)\n",
            "Train Target Vector Shape:  (60000,)\n",
            "Test Dataset Shape: (784, 10000)\n",
            "Test Target Vector Shape (10000,)\n"
          ]
        }
      ]
    },
    {
      "cell_type": "code",
      "source": [
        "plt.figure()\n",
        "plt.imshow(x_train[:,48].reshape(28,28))\n",
        "print(y_train[48])\n",
        "plt.figure()\n",
        "plt.imshow(x_test[:,75].reshape(28,28))\n",
        "print(y_test[75])"
      ],
      "metadata": {
        "colab": {
          "base_uri": "https://localhost:8080/",
          "height": 548
        },
        "id": "g4GmV_evncOl",
        "outputId": "d3d87f96-6acd-48d7-aeed-051424dcc83c"
      },
      "execution_count": 65,
      "outputs": [
        {
          "output_type": "stream",
          "name": "stdout",
          "text": [
            "9\n",
            "7\n"
          ]
        },
        {
          "output_type": "display_data",
          "data": {
            "text/plain": [
              "<Figure size 432x288 with 1 Axes>"
            ],
            "image/png": "[encoded data removed]"
          },
          "metadata": {
            "needs_background": "light"
          }
        },
        {
          "output_type": "display_data",
          "data": {
            "text/plain": [
              "<Figure size 432x288 with 1 Axes>"
            ],
            "image/png": "[encoded data removed]"
          },
          "metadata": {
            "needs_background": "light"
          }
        }
      ]
    },
    {
      "cell_type": "code",
      "source": [
        ""
      ],
      "metadata": {
        "id": "mN7IXDwclnrq"
      },
      "execution_count": 65,
      "outputs": []
    },
    {
      "cell_type": "code",
      "source": [
        ""
      ],
      "metadata": {
        "id": "IgD3VclPlnuD"
      },
      "execution_count": 65,
      "outputs": []
    },
    {
      "cell_type": "code",
      "source": [
        ""
      ],
      "metadata": {
        "id": "H1L3iDc2lnwi"
      },
      "execution_count": 65,
      "outputs": []
    },
    {
      "cell_type": "code",
      "source": [
        ""
      ],
      "metadata": {
        "id": "mjychvIElny6"
      },
      "execution_count": 65,
      "outputs": []
    },
    {
      "cell_type": "code",
      "source": [
        ""
      ],
      "metadata": {
        "id": "UK_pmN-Vln1t"
      },
      "execution_count": 65,
      "outputs": []
    },
    {
      "cell_type": "code",
      "source": [
        "class MLP():\n",
        "  def __init__(self, epochs, num_input_nodes, hidden_layers, num_output_nodes, lr, optimizer, batch_size, activation_function = 'sigmoid', loss_type = 'cross_entropy', w_initial = 'glorot'):\n",
        "    self.epochs = epochs\n",
        "    self.lr = lr \n",
        "    self.optimizer = optimizer\n",
        "    self.optimizer.lr = self.lr      \n",
        "    self.batch_size = batch_size\n",
        "    self.num_input_nodes = num_input_nodes\n",
        "    self.hidden_layers = hidden_layers\n",
        "    self.num_output_nodes = num_output_nodes\n",
        "    self.loss_type = loss_type\n",
        "    #Activation function\n",
        "    self.activation_function = self.activation(activation_function)\n",
        "    #parameter initialization\n",
        "    self.params = self.initialization(weight_initialisation = w_initial)\n",
        "\n",
        "  def activation(self, activation_function):\n",
        "\n",
        "    if activation_function == 'sigmoid':\n",
        "      return self.sigmoid\n",
        "    if activation_function == 'tanh':\n",
        "      return self.tanh\n",
        "    if activation_function == 'ReLU':\n",
        "      return self.relu\n",
        "\n",
        "  def sigmoid(self,x, derivative = False):\n",
        "    if derivative:\n",
        "      return self.sigmoid(x)*(1-self.sigmoid(x))\n",
        "    else:\n",
        "      return 1/(1 + np.exp(-x))\n",
        "\n",
        "  def tanh(self, x, derivative = False):\n",
        "    if derivative:\n",
        "      return 1 - self.tanh(x)**2\n",
        "    return (np.exp(x)-np.exp(-x))/(np.exp(x)+np.exp(-x))\n",
        "\n",
        "  def relu(self, x, derivative = False):\n",
        "    if derivative:\n",
        "      return (x>0)*1 \n",
        "    return x*(x>0)\n",
        "\n",
        "\n",
        "  def one_hot(self,y):\n",
        "    v = np.zeros((self.num_output_nodes, len(y)))\n",
        "    for i,j in enumerate(y):\n",
        "      v[j,i] = 1\n",
        "    return v\n",
        "\n",
        "  def softmax(self,x,derivative = False):\n",
        "    if derivative:\n",
        "      return self.softmax(x)*(1- self.softmax(x))\n",
        "    else:\n",
        "      return (np.exp(x)/np.sum(np.exp(x), axis = 0))\n",
        "\n",
        "  def loss(self, y_pred, y_true):\n",
        "    if self.loss_type == 'cross_entropy':\n",
        "      return -1*np.mean(np.multiply(y_true, np.log(y_pred))) # To Do: Optimize this using argmax\n",
        "\n",
        "  def initialization(self, weight_initialisation = 'random'):\n",
        "    w = []\n",
        "    b = []\n",
        "\n",
        "    if weight_initialisation == 'random':\n",
        "      w.append(np.random.randn(self.hidden_layers[0],self.num_input_nodes)*0.1)\n",
        "    elif weight_initialisation == 'Xavier':\n",
        "      w.append(np.random.randn(self.hidden_layers[0],self.num_input_nodes)*np.sqrt(2/(self.num_input_nodes+self.hidden_layers[0])))\n",
        "    b.append(np.zeros((self.hidden_layers[0], 1))) \n",
        "\n",
        "    for i in range(1,len(self.hidden_layers)):\n",
        "      if weight_initialisation == 'random':\n",
        "        w.append(np.random.randn(self.hidden_layers[i],self.hidden_layers[i-1])*0.1)\n",
        "      elif weight_initialisation == 'Xavier':\n",
        "        w.append(np.random.randn(self.hidden_layers[i],self.hidden_layers[i-1])*np.sqrt(2/(self.hidden_layers[i-1]+self.hidden_layers[i])))\n",
        "      b.append(np.zeros((self.hidden_layers[i], 1)))\n",
        "\n",
        "    if weight_initialisation == 'random':\n",
        "      w.append(np.random.randn(self.num_output_nodes,self.hidden_layers[len(self.hidden_layers)-1])*0.1)\n",
        "    elif weight_initialisation == 'Xavier':\n",
        "      w.append(np.random.randn(self.num_output_nodes,self.hidden_layers[len(self.hidden_layers)-1])*np.sqrt(2/(self.hidden_layers[len(self.hidden_layers)-1] + self.num_output_nodes)))\n",
        "    b.append(np.zeros((self.num_output_nodes, 1)))\n",
        "\n",
        "    return {'w':w, 'b':b}\n",
        "\n",
        "  def compute_accuracy(self, x_test, y_test):\n",
        "    from sklearn.metrics import accuracy_score\n",
        "    out = self.feed_forward(x_test)\n",
        "    pred = np.argmax(out, axis = 0)\n",
        "    acc=accuracy_score(y_test, pred, normalize=True, sample_weight=None)\n",
        "    return np.mean(pred == y_test)*100\n",
        "\n",
        "  def feed_forward(self, x):\n",
        "    #a=wh+b\n",
        "    #h=activation function(a)\n",
        "    self.a = []\n",
        "    self.h = []\n",
        "    self.h.append(x)\n",
        "\n",
        "    for i in range(0, len(self.hidden_layers)):\n",
        "      self.a.append(np.dot(self.params['w'][i], self.h[-1])+ self.params['b'][i])\n",
        "      self.h.append(self.activation_function(self.a[i]))\n",
        "\n",
        "    self.a.append(np.dot(self.params['w'][-1],self.h[-1])+self.params['b'][-1])\n",
        "\n",
        "    y_hat = self.softmax(self.a[-1])\n",
        "    return y_hat\n",
        "\n",
        "  def back_propagation(self, y_hat, y_true):\n",
        "    self.da = [0]* len(self.a)\n",
        "    self.dh = [0]* (len(self.h)-1)\n",
        "    self.dw = [0]* len(self.params['w'])\n",
        "    self.db = [0]* len(self.params['b'])\n",
        "\n",
        "    self.da[-1] = -1*(y_true - y_hat)\n",
        "    m = y_hat.shape[1]\n",
        "    for i in range(len(self.params['w'])-1, 0, -1):\n",
        "      self.dw[i] = 1./m * np.dot(self.da[i], self.h[i].T) \n",
        "      self.db[i] = 1./m * np.sum(self.da[i], axis = 1, keepdims = True)\n",
        "\n",
        "      self.dh[i-1] = np.dot(self.params['w'][i].T, self.da[i])\n",
        "      self.da[i-1] = np.multiply(self.dh[i-1], self.activation_function(self.da[i-1], derivative=True))\n",
        "    self.dw[0] = 1./m * np.dot(self.da[0], self.h[0].T)\n",
        "    self.db[0] = 1./m * np.sum(self.da[0], axis = 1, keepdims = True)\n",
        "\n",
        "    return self.dw, self.db\n",
        "\n",
        "  def train(self, x_train, y_train, x_test, y_test):\n",
        "    N = x_train.shape[1]\n",
        "    n_batches = int(np.floor(N / self.batch_size))\n",
        "    train_iter_loss = []\n",
        "    test_iter_loss = []\n",
        "    train_epoch_loss = []\n",
        "    for epoch in range(0, self.epochs):\n",
        "      l = 0\n",
        "      for batch in tqdm(range(0, n_batches)):\n",
        "        x = x_train[:,batch*self.batch_size:self.batch_size+batch*self.batch_size]\n",
        "        y = y_train[batch*self.batch_size:self.batch_size+batch*self.batch_size]\n",
        "        y_hat = self.feed_forward(x)\n",
        "\n",
        "        gW, gB = self.back_propagation(y_hat,self.one_hot(y))\n",
        "        self.params = self.optimizer.update(self.params, gW,gB)\n",
        "        l += self.loss(y_hat, self.one_hot(y))\n",
        "        if batch % 200 == 0:\n",
        "          train_iter_loss.append(self.loss(self.feed_forward(x_train),self.one_hot(y_train)))\n",
        "          test_iter_loss.append(self.loss(self.feed_forward(x_test),self.one_hot(y_test)))\n",
        "\n",
        "      try:\n",
        "        x = x_train[:,-1*N%n_batches:]\n",
        "        y = y_train[-1*N%n_batches:]\n",
        "        y_hat = self.feed_forward(x)\n",
        "        gW, gB = self.back_propagation(y_hat, self.one_hot(y))\n",
        "        self.params = self.optimizer.update(self.params, gW,gB)\n",
        "        l += self.loss(y_hat, y)\n",
        "      except:\n",
        "        pass\n",
        "\n",
        "      train_epoch_loss.append(l/N)\n",
        "      print(f\"Epoch: {epoch}, Epoch-loss: {l/N}\")\n",
        "      print(f\"Train Accuracy: {self.compute_accuracy(x_train, y_train)}\")\n",
        "      print(f\"Test Accuracy: {self.compute_accuracy(x_test, y_test)}\")\n",
        "\n",
        "    return train_iter_loss, test_iter_loss, train_epoch_loss\n",
        "    \n"
      ],
      "metadata": {
        "id": "gUB162oqqzdb"
      },
      "execution_count": 187,
      "outputs": []
    },
    {
      "cell_type": "code",
      "source": [
        "### Optimizer\n",
        "class SGD:\n",
        "  ''' Stochastic Gradient Descent '''\n",
        "  def __init__(self, lr = 0.001):\n",
        "    self.lr = lr\n",
        "\n",
        "  def update(self, params, gW, gB):\n",
        "    W = np.array(params['w'], dtype = object)\n",
        "    B = np.array(params['b'], dtype = object)\n",
        "    W = W - self.lr * np.array(gW, dtype = object)\n",
        "    B = B - self.lr * np.array(gB, dtype = object)\n",
        "\n",
        "    return {'w':W.tolist(), 'b': B.tolist()}"
      ],
      "metadata": {
        "id": "Zs1B_ta_zaV1"
      },
      "execution_count": 188,
      "outputs": []
    },
    {
      "cell_type": "code",
      "source": [
        ""
      ],
      "metadata": {
        "id": "B5252LQ1zaY0"
      },
      "execution_count": 188,
      "outputs": []
    },
    {
      "cell_type": "code",
      "source": [
        "model = MLP(epochs = 5,num_input_nodes = 784, hidden_layers = [500, 250, 100],num_output_nodes = 10, lr = 0.001, optimizer = SGD(), batch_size= 64, w_initial = 'random', activation_function = 'sigmoid',loss_type='cross_entropy')"
      ],
      "metadata": {
        "id": "lv36qekrvPUB"
      },
      "execution_count": 189,
      "outputs": []
    },
    {
      "cell_type": "code",
      "source": [
        "for i in range(0,4):\n",
        "  print(model.params['w'][i].shape)\n",
        "  print(model.params['b'][i].shape)"
      ],
      "metadata": {
        "id": "QrAMKtQ6q0KB",
        "colab": {
          "base_uri": "https://localhost:8080/"
        },
        "outputId": "e4c4e566-0d11-43e9-b167-4f5d8752d507"
      },
      "execution_count": 190,
      "outputs": [
        {
          "output_type": "stream",
          "name": "stdout",
          "text": [
            "(1024, 784)\n",
            "(1024, 1)\n",
            "(2048, 1024)\n",
            "(2048, 1)\n",
            "(256, 2048)\n",
            "(256, 1)\n",
            "(10, 256)\n",
            "(10, 1)\n"
          ]
        }
      ]
    },
    {
      "cell_type": "code",
      "source": [
        "x_train.shape"
      ],
      "metadata": {
        "colab": {
          "base_uri": "https://localhost:8080/"
        },
        "id": "SMkwo47AACIo",
        "outputId": "9f4a5998-0460-420e-8ba5-f959eb21a260"
      },
      "execution_count": 191,
      "outputs": [
        {
          "output_type": "execute_result",
          "data": {
            "text/plain": [
              "(784, 60000)"
            ]
          },
          "metadata": {},
          "execution_count": 191
        }
      ]
    },
    {
      "cell_type": "code",
      "source": [
        "y_hat = model.feed_forward(x_train[:,:16])"
      ],
      "metadata": {
        "id": "lSQVFQQE-KDu"
      },
      "execution_count": 192,
      "outputs": []
    },
    {
      "cell_type": "code",
      "source": [
        "dw, db = model.back_propagation(y_hat, model.one_hot(y_train[:16]))"
      ],
      "metadata": {
        "id": "xJJBDszKAJtX"
      },
      "execution_count": 193,
      "outputs": []
    },
    {
      "cell_type": "code",
      "source": [
        "for i in range(0,4):\n",
        "  print(dw[i].shape)\n",
        "  print(db[i].shape)"
      ],
      "metadata": {
        "colab": {
          "base_uri": "https://localhost:8080/"
        },
        "id": "yms5Z_bBALJ5",
        "outputId": "9421a06f-59d1-407c-e6b0-45fb9c06c0d1"
      },
      "execution_count": 194,
      "outputs": [
        {
          "output_type": "stream",
          "name": "stdout",
          "text": [
            "(1024, 784)\n",
            "(1024, 1)\n",
            "(2048, 1024)\n",
            "(2048, 1)\n",
            "(256, 2048)\n",
            "(256, 1)\n",
            "(10, 256)\n",
            "(10, 1)\n"
          ]
        }
      ]
    },
    {
      "cell_type": "code",
      "source": [
        "A = model.optimizer.update(model.params, dw, db)"
      ],
      "metadata": {
        "id": "Da487NPGXAQx"
      },
      "execution_count": 195,
      "outputs": []
    },
    {
      "cell_type": "code",
      "source": [
        "model.train(x_train, y_train, x_test, y_test)"
      ],
      "metadata": {
        "colab": {
          "base_uri": "https://localhost:8080/",
          "height": 1000,
          "referenced_widgets": [
            "0d208c72708f4c64826c4d9073ffb9dc",
            "d9e9339c87b54e8d8c7fcc3eb3ada99d",
            "76be613cad704b41b59fbb48a7cd5b36",
            "9896e2f7747046e2a05e8660e037e1db",
            "6bae747c55224b21afa24be30fc47df7",
            "bf6d0b1eeec34124b53885c49e78dc03",
            "ef2c37781d4247bbac6b7a05193a0e37",
            "9d8a71a712944a73b5d6d9e909e60caa",
            "9626112291e14a839cfc2ae177c8af88",
            "5a99e450a2d341808e84a11fe397d6fc",
            "d7973c0028874ec4816f4d1b92f6e439",
            "5225c12cea8d45dd96b6e6ef3fc3e03b",
            "7ac037caf7c94acab67117b4fdb0eea9",
            "692cdd4ed70547f88b195679cbdab82c",
            "959b7e77b76c4f8f8299dac5251f77a8",
            "bad102280091476aa0edc18916804afe",
            "bc227fd4b33440dfabc1826918b292b7",
            "7e42785fb75747869e11e9652a541c01",
            "081559891877495386307a666b6f8bba",
            "1ec5a7f9276b47278e7a37ed6f629677",
            "7df305ffbb0d433a86a5e5b208ce6cc9",
            "4a19f0571cbd4fafaabd1c3eb4d7cdd7",
            "5a41efe0217540c8a7a593a3d93a3d97",
            "50388e8f17b1434d87b99be2830045a5",
            "321f8e7a5dd544048c5a08caeac9b23a",
            "0943c528b4134a79a371bafa7ce2c7eb",
            "4265896dcf4948d89c005e7bd7aef57d",
            "17901e734f7941418a5b304324e88f89",
            "8845174380284406a0cfa0729e4dcd79",
            "62d0620b28784dd6b9475970693c0e34",
            "881d64af0f9848a0b47fae96d88ccb4f",
            "a41b216683584dabb5fdf9448ba445d4",
            "3f057b677c2149519c53e64e8b2c2dc0",
            "49efac17ccd543ecab48acec157998db",
            "389c16dd758c46dda9956248244c4187",
            "2a45ab6cbd90490cbeb747fa9413bb48",
            "e620af155b584337b287ddebd13a7887",
            "c0d6525032fd4ec38232774c6bc79caa",
            "af90021f7a004c44bd50977ea26fa5d9",
            "bfe74398a0054de484c1ed9c3959965c",
            "8154917f8b6e47c0a7803d4e3a73e656",
            "843528d5589d4f06be1f16d8edd1bef7",
            "19012fff915b4ca2935705cb7e69c750",
            "a60b641a8d4b4ded8eb8f03c8d7a8955",
            "6fab820f6cd54f9cbfdc36c558797def",
            "2df888d28f484397a275e3458538e693",
            "3f866bed78164531acfffd2f4963ba2f",
            "8f7174d7687b4bfc8b6ed904807004cd",
            "dd917cbe0633420d9615e3d425d02918",
            "228f5d6f8e7f4c18885c2db1132597c4",
            "a54533efd9114f9da35d566ff0331449",
            "148c8362cd2f4e128a62f82c9cd9a11b",
            "09fb2c3abd0442aab643f7219ba367c2",
            "838546e4ae43480b9863c99660ae3782",
            "5a46df9bf5ab43f78323c6aabc5cc45e"
          ]
        },
        "id": "F6PLvSf4fgv1",
        "outputId": "38da45cd-6317-4825-f7fb-66343933d42e"
      },
      "execution_count": 196,
      "outputs": [
        {
          "output_type": "display_data",
          "data": {
            "text/plain": [
              "  0%|          | 0/937 [00:00<?, ?it/s]"
            ],
            "application/vnd.jupyter.widget-view+json": {
              "version_major": 2,
              "version_minor": 0,
              "model_id": "0d208c72708f4c64826c4d9073ffb9dc"
            }
          },
          "metadata": {}
        },
        {
          "output_type": "stream",
          "name": "stdout",
          "text": [
            "Epoch: 0, Epoch-loss: 103.5766262956736\n",
            "Train Accuracy: 37.49333333333333\n",
            "Test Accuracy: 38.26\n"
          ]
        },
        {
          "output_type": "display_data",
          "data": {
            "text/plain": [
              "  0%|          | 0/937 [00:00<?, ?it/s]"
            ],
            "application/vnd.jupyter.widget-view+json": {
              "version_major": 2,
              "version_minor": 0,
              "model_id": "5225c12cea8d45dd96b6e6ef3fc3e03b"
            }
          },
          "metadata": {}
        },
        {
          "output_type": "stream",
          "name": "stdout",
          "text": [
            "Epoch: 1, Epoch-loss: 103.63106451112925\n",
            "Train Accuracy: 53.86833333333333\n",
            "Test Accuracy: 54.800000000000004\n"
          ]
        },
        {
          "output_type": "display_data",
          "data": {
            "text/plain": [
              "  0%|          | 0/937 [00:00<?, ?it/s]"
            ],
            "application/vnd.jupyter.widget-view+json": {
              "version_major": 2,
              "version_minor": 0,
              "model_id": "5a41efe0217540c8a7a593a3d93a3d97"
            }
          },
          "metadata": {}
        },
        {
          "output_type": "stream",
          "name": "stdout",
          "text": [
            "Epoch: 2, Epoch-loss: 103.9001680674864\n",
            "Train Accuracy: 59.78333333333333\n",
            "Test Accuracy: 60.64000000000001\n"
          ]
        },
        {
          "output_type": "display_data",
          "data": {
            "text/plain": [
              "  0%|          | 0/937 [00:00<?, ?it/s]"
            ],
            "application/vnd.jupyter.widget-view+json": {
              "version_major": 2,
              "version_minor": 0,
              "model_id": "49efac17ccd543ecab48acec157998db"
            }
          },
          "metadata": {}
        },
        {
          "output_type": "stream",
          "name": "stdout",
          "text": [
            "Epoch: 3, Epoch-loss: 104.40641015764216\n",
            "Train Accuracy: 63.278333333333336\n",
            "Test Accuracy: 64.4\n"
          ]
        },
        {
          "output_type": "display_data",
          "data": {
            "text/plain": [
              "  0%|          | 0/937 [00:00<?, ?it/s]"
            ],
            "application/vnd.jupyter.widget-view+json": {
              "version_major": 2,
              "version_minor": 0,
              "model_id": "6fab820f6cd54f9cbfdc36c558797def"
            }
          },
          "metadata": {}
        },
        {
          "output_type": "stream",
          "name": "stdout",
          "text": [
            "Epoch: 4, Epoch-loss: 105.22396214630915\n",
            "Train Accuracy: 65.86333333333333\n",
            "Test Accuracy: 67.17\n"
          ]
        },
        {
          "output_type": "execute_result",
          "data": {
            "text/plain": [
              "([188268.6088641474,\n",
              "  137682.08604041103,\n",
              "  136151.12319071207,\n",
              "  134729.9543106131,\n",
              "  133317.5518912554,\n",
              "  132322.78317405132,\n",
              "  130875.54676505964,\n",
              "  129504.29489101427,\n",
              "  128120.20780933631,\n",
              "  126734.60681815461,\n",
              "  125754.33296244287,\n",
              "  124320.33394160948,\n",
              "  122955.1719122586,\n",
              "  121564.92572628442,\n",
              "  120165.78042629607,\n",
              "  119174.76593148602,\n",
              "  117722.43860983904,\n",
              "  116337.23477952529,\n",
              "  114919.81313038789,\n",
              "  113490.40702161969,\n",
              "  112479.74281437905,\n",
              "  111001.38410668173,\n",
              "  109592.43903180126,\n",
              "  108149.32738304151,\n",
              "  106694.94303952534],\n",
              " [31457.612312244313,\n",
              "  22953.04293814813,\n",
              "  22687.004216047186,\n",
              "  22446.107259788416,\n",
              "  22208.487231784962,\n",
              "  22039.28716526219,\n",
              "  21794.350777606964,\n",
              "  21556.494400718486,\n",
              "  21322.652474862065,\n",
              "  21089.520415798044,\n",
              "  20922.94978398342,\n",
              "  20680.417885653507,\n",
              "  20443.21301221601,\n",
              "  20209.058632294196,\n",
              "  19973.54357342005,\n",
              "  19805.335307823476,\n",
              "  19559.96583537133,\n",
              "  19318.9056913824,\n",
              "  19080.950641104362,\n",
              "  18840.213276148792,\n",
              "  18668.887156734345,\n",
              "  18419.53894657874,\n",
              "  18173.940542381526,\n",
              "  17932.53642989486,\n",
              "  17687.48383506319],\n",
              " [103.5766262956736,\n",
              "  103.63106451112925,\n",
              "  103.9001680674864,\n",
              "  104.40641015764216,\n",
              "  105.22396214630915])"
            ]
          },
          "metadata": {},
          "execution_count": 196
        }
      ]
    },
    {
      "cell_type": "code",
      "source": [
        ""
      ],
      "metadata": {
        "id": "v6UXQwjGgHji"
      },
      "execution_count": null,
      "outputs": []
    },
    {
      "cell_type": "code",
      "source": [
        ""
      ],
      "metadata": {
        "id": "t18-qAM4gH2e"
      },
      "execution_count": null,
      "outputs": []
    }
  ]
}