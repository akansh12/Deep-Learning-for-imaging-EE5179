{
  "nbformat": 4,
  "nbformat_minor": 0,
  "metadata": {
    "colab": {
      "name": " PA1 CS22Z003.ipynb",
      "provenance": [],
      "authorship_tag": "ABX9TyPGsehLE0NWmA70zqNm1kM5",
      "include_colab_link": true
    },
    "kernelspec": {
      "name": "python3",
      "display_name": "Python 3"
    },
    "language_info": {
      "name": "python"
    }
  },
  "cells": [
    {
      "cell_type": "markdown",
      "metadata": {
        "id": "view-in-github",
        "colab_type": "text"
      },
      "source": [
        "<a href=\"https://colab.research.google.com/github/akansh12/Deep-Learning-for-imaging-EE5179/blob/main/Assignment_1/PA1_CS22Z003.ipynb\" target=\"_parent\"><img src=\"https://colab.research.google.com/assets/colab-badge.svg\" alt=\"Open In Colab\"/></a>"
      ]
    },
    {
      "cell_type": "markdown",
      "source": [
        "# MNIST Classification using MLP\n"
      ],
      "metadata": {
        "id": "q-Acap1SgWyb"
      }
    },
    {
      "cell_type": "markdown",
      "source": [
        "Tasks to to:\n",
        "- Downloading the Dataset\n",
        "- Baseline: IP-h(500)-h(250)-h(100)-OP\n",
        "- Activation functions for hidden layers: Sigmoid and for the Output layer it is softmax\n",
        "- Gradient-Descent\n",
        "- lr = 0.01, batch size = 64, epoch = 15\n",
        "-  Extra marks for experimentations\n",
        "- Glorot Initialization\n",
        "- Plot the loss for 200 iterations\n",
        "- Confustion matrix and classification report\n",
        "1.1\n",
        "- Use Tanh and RELU\n",
        "\n",
        "Task 2:\n",
        "- Use pytorch for the same\n",
        "- Add L2 Regularization to it."
      ],
      "metadata": {
        "id": "bi2x5f2qgSUu"
      }
    },
    {
      "cell_type": "code",
      "source": [
        ""
      ],
      "metadata": {
        "id": "tuSuNiYjgTBx"
      },
      "execution_count": null,
      "outputs": []
    }
  ]
}